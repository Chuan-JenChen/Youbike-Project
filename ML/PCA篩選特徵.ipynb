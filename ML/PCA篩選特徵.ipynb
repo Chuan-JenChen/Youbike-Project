{
 "cells": [
  {
   "cell_type": "code",
   "execution_count": 7,
   "metadata": {},
   "outputs": [],
   "source": [
    "from sklearn.decomposition import PCA\n",
    "import pandas as pd\n",
    "import numpy as np\n",
    "import matplotlib.pyplot as plt\n",
    "import seaborn as seabornInstance\n",
    "from sklearn.model_selection import train_test_split\n",
    "from sklearn.linear_model import LinearRegression\n",
    "from sklearn import metrics\n",
    "from sklearn import datasets, linear_model\n",
    "from sklearn.metrics import mean_squared_error, r2_score\n",
    "from sklearn import preprocessing\n",
    "from sklearn.model_selection import GridSearchCV\n",
    "from pandas import Series, DataFrame\n",
    "from mpl_toolkits.mplot3d import Axes3D\n",
    "from sklearn.datasets import make_blobs\n",
    "#https://www.twblogs.net/a/5c546b7cbd9eee06ef364efb"
   ]
  },
  {
   "cell_type": "code",
   "execution_count": 8,
   "metadata": {},
   "outputs": [
    {
     "name": "stderr",
     "output_type": "stream",
     "text": [
      "c:\\Users\\Student\\anaconda3\\lib\\site-packages\\IPython\\core\\interactiveshell.py:3369: DtypeWarning: Columns (25,31,32) have mixed types.Specify dtype option on import or set low_memory=False.\n",
      "  exec(code_obj, self.user_global_ns, self.user_ns)\n"
     ]
    }
   ],
   "source": [
    "Bike = pd.read_csv(\"C:/BDSE26/df_0907.csv\", sep=\",\")\n"
   ]
  },
  {
   "cell_type": "code",
   "execution_count": 9,
   "metadata": {},
   "outputs": [
    {
     "data": {
      "text/plain": [
       "0           1324\n",
       "1              0\n",
       "2           1556\n",
       "3           1238\n",
       "4           1687\n",
       "            ... \n",
       "19212469     988\n",
       "19212470     896\n",
       "19212471    2736\n",
       "19212472    1355\n",
       "19212473     713\n",
       "Name: MRT_Out_ppl, Length: 19212474, dtype: object"
      ]
     },
     "execution_count": 9,
     "metadata": {},
     "output_type": "execute_result"
    }
   ],
   "source": [
    "Bike['sno'].astype('str')\n",
    "Bike['tot'].astype('str')\n",
    "Bike['Hr'].astype('str')\n",
    "Bike['weekday_num'].astype('str')\n",
    "Bike['MRT_Out_ppl'].astype('str')"
   ]
  },
  {
   "cell_type": "code",
   "execution_count": 10,
   "metadata": {},
   "outputs": [],
   "source": [
    "ds = DataFrame(Bike)\n",
    "X_choice = ds.loc[:, [\n",
    "    'sno', 'tot', 'Hr', 'weekday_num', 'holiday', 'school_off', 'Temperature',\n",
    "    'RH', 'WS', 'rain', 'Precp', 'MRT_Out_ppl', 'MRT_Dist', 'School_Dist',\n",
    "    'Weather_Dist', 'Generation', 'UVI', 'return_sec', 'rent_sec', 'rent_count'\n",
    "]]\n",
    "ds = X_choice.values\n",
    "X = ds[:, 0:19]\n",
    "y = ds[:, 19]\n",
    "y = y.astype('int64')\n",
    "X_train, X_test, y_train, y_test = train_test_split(X, y, test_size=0.20)"
   ]
  },
  {
   "cell_type": "code",
   "execution_count": 11,
   "metadata": {},
   "outputs": [
    {
     "name": "stdout",
     "output_type": "stream",
     "text": [
      "18\n",
      "[9.99999984e-01 1.09465981e-08 5.04454211e-09 2.94960950e-11\n",
      " 2.52995866e-11 3.76531112e-12 1.22342807e-12 4.49832922e-15\n",
      " 3.37324467e-15 8.24969774e-16 5.77354466e-16 9.11725735e-17\n",
      " 8.58389070e-17 3.97475119e-17 3.22952960e-17 4.75384212e-18\n",
      " 1.13951281e-18 8.43468003e-19]\n",
      "[4.55618603e+16 4.98747379e+08 2.29838727e+08 1.34389698e+06\n",
      " 1.15269625e+06 1.71554582e+05 5.57416597e+04 2.04952251e+02\n",
      " 1.53691305e+02 3.75871582e+01 2.63053439e+01 4.15399212e+00\n",
      " 3.91098035e+00 1.81097061e+00 1.47143379e+00 2.16593894e-01\n",
      " 5.19183244e-02 3.84299719e-02]\n"
     ]
    }
   ],
   "source": [
    "from sklearn.decomposition import PCA\n",
    "\n",
    "pca = PCA(n_components='mle', svd_solver='full')\n",
    "pca.fit(X)\n",
    "\n",
    "print(pca.n_components_)\n",
    "\n",
    "#看新特徵的解釋能力:\n",
    "print(pca.explained_variance_ratio_)\n",
    "\n",
    "#把解釋能力累加起來，看看我們總共保留了多少特徵貢獻度。\n",
    "print(pca.explained_variance_)\n"
   ]
  }
 ],
 "metadata": {
  "kernelspec": {
   "display_name": "Python 3.9.12 ('base')",
   "language": "python",
   "name": "python3"
  },
  "language_info": {
   "codemirror_mode": {
    "name": "ipython",
    "version": 3
   },
   "file_extension": ".py",
   "mimetype": "text/x-python",
   "name": "python",
   "nbconvert_exporter": "python",
   "pygments_lexer": "ipython3",
   "version": "3.9.12"
  },
  "orig_nbformat": 4,
  "vscode": {
   "interpreter": {
    "hash": "ae21a3e56bb7b7ae0242965a996818efe80fa944ec8bb60257b7c2c84d3358e6"
   }
  }
 },
 "nbformat": 4,
 "nbformat_minor": 2
}
