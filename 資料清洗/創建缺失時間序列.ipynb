{
 "cells": [
  {
   "cell_type": "markdown",
   "id": "bbbcd062-9b19-433b-8223-e9c8b4691790",
   "metadata": {
    "tags": []
   },
   "source": [
    "### 讀檔案"
   ]
  },
  {
   "cell_type": "code",
   "execution_count": 1,
   "id": "e8b9d8ce-41c8-4a8a-ace4-2e4f2281be01",
   "metadata": {},
   "outputs": [],
   "source": [
    "import pandas as pd"
   ]
  },
  {
   "cell_type": "code",
   "execution_count": 2,
   "id": "9d3a6596-bffb-4b4b-9b90-69b33db4ab7b",
   "metadata": {},
   "outputs": [],
   "source": [
    "df1 = pd.read_csv(\"D:\\\\PythonDev\\\\YouBike1&2\\\\ML\\\\df_0907.csv\",low_memory=False)"
   ]
  },
  {
   "cell_type": "code",
   "execution_count": 3,
   "id": "21fc3fe8-3ad9-4f3d-842d-4c1bffae42c8",
   "metadata": {},
   "outputs": [
    {
     "data": {
      "text/plain": [
       "(19212474, 45)"
      ]
     },
     "execution_count": 3,
     "metadata": {},
     "output_type": "execute_result"
    }
   ],
   "source": [
    "df1.shape"
   ]
  },
  {
   "cell_type": "markdown",
   "id": "8268e6cc-9a00-4043-b961-869d7a960a68",
   "metadata": {
    "tags": []
   },
   "source": [
    "### group by day"
   ]
  },
  {
   "cell_type": "code",
   "execution_count": 9,
   "id": "5b62602c-7b41-4bf9-a7c1-eaf3d8448a1f",
   "metadata": {
    "jupyter": {
     "source_hidden": true
    },
    "tags": []
   },
   "outputs": [],
   "source": [
    "df_byday = df1[['sno',\n",
    " 'bike_lat',\n",
    " 'bike_lng',\n",
    " 'tot',\n",
    " 'date',\n",
    " 'holiday',\n",
    " 'ar',\n",
    " 'outlier',\n",
    " 'sarea',\n",
    " 'return_sec',\n",
    " 'rent_sec',\n",
    " 'rent_count',\n",
    " 'return_count']].groupby(by=['sno',\n",
    " 'bike_lat',\n",
    " 'bike_lng',\n",
    " 'tot',\n",
    " 'date',\n",
    " 'holiday',\n",
    " 'ar',\n",
    " 'outlier',\n",
    " 'sarea']).sum()"
   ]
  },
  {
   "cell_type": "code",
   "execution_count": 14,
   "id": "b77cec0f-6622-4105-83c8-5b868e2b84e8",
   "metadata": {},
   "outputs": [],
   "source": [
    "df_byday=df_byday.reset_index()"
   ]
  },
  {
   "cell_type": "code",
   "execution_count": 18,
   "id": "9fe72f88-c884-42e5-9fe0-7b6b30833d02",
   "metadata": {
    "tags": []
   },
   "outputs": [
    {
     "data": {
      "text/plain": [
       "(1051029, 13)"
      ]
     },
     "execution_count": 18,
     "metadata": {},
     "output_type": "execute_result"
    }
   ],
   "source": [
    "df_byday.shape"
   ]
  },
  {
   "cell_type": "code",
   "execution_count": 16,
   "id": "a8040ca8-b7ea-40d4-a861-61060da9219c",
   "metadata": {},
   "outputs": [],
   "source": [
    "df_byday.to_csv('D:\\\\PythonDev\\\\YouBike1&2\\\\df_byday.csv',index =False)"
   ]
  },
  {
   "cell_type": "code",
   "execution_count": null,
   "id": "ee71ddbf-de62-4786-8330-6f768bbbff55",
   "metadata": {},
   "outputs": [],
   "source": []
  },
  {
   "cell_type": "code",
   "execution_count": null,
   "id": "7369f15a-4e4e-4133-aab8-9cfd926014b4",
   "metadata": {},
   "outputs": [],
   "source": [
    "df1['time'].max()"
   ]
  },
  {
   "cell_type": "code",
   "execution_count": 4,
   "id": "f4cc35f3-a985-4322-9212-33489c0211b8",
   "metadata": {
    "collapsed": true,
    "jupyter": {
     "outputs_hidden": true
    },
    "tags": []
   },
   "outputs": [
    {
     "data": {
      "text/plain": [
       "['sno',\n",
       " 'bike_lat',\n",
       " 'bike_lng',\n",
       " 'tot',\n",
       " 'time',\n",
       " 'date',\n",
       " 'Hr',\n",
       " 'weekday',\n",
       " 'weekday_num',\n",
       " 'holiday',\n",
       " 'school_off',\n",
       " 'Temperature',\n",
       " 'RH',\n",
       " 'WS',\n",
       " 'rain',\n",
       " 'Precp',\n",
       " 'MRT_Out_ppl',\n",
       " 'ar',\n",
       " 'MRT_Dist',\n",
       " 'School_Dist',\n",
       " 'sna',\n",
       " 'station',\n",
       " 'MRT_Station',\n",
       " 'MRT_No',\n",
       " 'MRT_Exit_Name',\n",
       " 'Exit_No',\n",
       " 'MRT_lng',\n",
       " 'MRT_lat',\n",
       " 'School',\n",
       " 'School_lat',\n",
       " 'School_lng',\n",
       " 'StationID',\n",
       " 'WeatherSiteID',\n",
       " 'WeatherSite',\n",
       " 'Weather_lng',\n",
       " 'Weather_lat',\n",
       " 'Weather_Dist',\n",
       " 'Generation',\n",
       " 'outlier',\n",
       " 'sarea',\n",
       " 'UVI',\n",
       " 'return_sec',\n",
       " 'rent_sec',\n",
       " 'rent_count',\n",
       " 'return_count']"
      ]
     },
     "execution_count": 4,
     "metadata": {},
     "output_type": "execute_result"
    }
   ],
   "source": [
    "df1.columns.to_list()"
   ]
  },
  {
   "cell_type": "markdown",
   "id": "3c913333-cdb6-449f-86f3-3264ca07de9e",
   "metadata": {
    "tags": []
   },
   "source": [
    "### Create df_fact"
   ]
  },
  {
   "cell_type": "code",
   "execution_count": null,
   "id": "e962f87b-a6e1-4d5c-b75d-752e8ce3a51d",
   "metadata": {
    "tags": []
   },
   "outputs": [],
   "source": [
    "df_fact = df1[['sno',\n",
    " 'bike_lat',\n",
    " 'bike_lng',\n",
    " 'tot',\n",
    " 'MRT_Dist',\n",
    " 'School_Dist',\n",
    " 'ar',\n",
    " 'sna',\n",
    " 'station',\n",
    " 'MRT_Station',\n",
    " 'MRT_No',\n",
    " 'MRT_Exit_Name',\n",
    " 'Exit_No',\n",
    " 'MRT_lng',\n",
    " 'MRT_lat',\n",
    " 'School',\n",
    " 'School_lat',\n",
    " 'School_lng',\n",
    " 'StationID',\n",
    " 'WeatherSiteID',\n",
    " 'WeatherSite',\n",
    " 'Weather_lng',\n",
    " 'Weather_lat',\n",
    " 'Weather_Dist',\n",
    " 'Generation',\n",
    " 'sarea']].drop_duplicates()"
   ]
  },
  {
   "cell_type": "code",
   "execution_count": null,
   "id": "82b67c58-d0ca-47c7-9aeb-5690177f5df0",
   "metadata": {},
   "outputs": [],
   "source": [
    "df_fact = df_fact.sort_values(by=['sno']).reset_index()"
   ]
  },
  {
   "cell_type": "code",
   "execution_count": null,
   "id": "421d8585-b62d-472b-88a8-37396bd75b3e",
   "metadata": {},
   "outputs": [],
   "source": [
    "df_fact.shape"
   ]
  },
  {
   "cell_type": "code",
   "execution_count": null,
   "id": "d9003cd8-3a68-4c29-9d3d-19759a26e17b",
   "metadata": {
    "tags": []
   },
   "outputs": [],
   "source": [
    "df_fact.head()"
   ]
  },
  {
   "cell_type": "markdown",
   "id": "bc4186f3-2e81-4559-87de-e4e0abce6840",
   "metadata": {
    "tags": []
   },
   "source": [
    "### 各站點最早有資料的時間(daterange起始點)"
   ]
  },
  {
   "cell_type": "code",
   "execution_count": null,
   "id": "5252704a-9054-482e-881c-c1c09a778196",
   "metadata": {},
   "outputs": [],
   "source": [
    "df_sno = df1[['sno','time']].groupby(by=[\"sno\"]).min().sort_values(by=['sno','time']).reset_index()"
   ]
  },
  {
   "cell_type": "code",
   "execution_count": null,
   "id": "7d964926-15b7-467c-b81e-32bb0fd9b375",
   "metadata": {},
   "outputs": [],
   "source": [
    "df_sno.tail()"
   ]
  },
  {
   "cell_type": "markdown",
   "id": "8f5d598a-6e9e-4503-8107-966f567e7411",
   "metadata": {},
   "source": [
    "### 站點清單 一共1417個"
   ]
  },
  {
   "cell_type": "code",
   "execution_count": null,
   "id": "614338cd-91d2-4bb5-9f44-61927b9455b6",
   "metadata": {
    "tags": []
   },
   "outputs": [],
   "source": [
    "sno_list = df1['sno'].drop_duplicates().sort_values().to_list()\n",
    "\n",
    "# len = 1417, ascending order\n",
    "sno_list"
   ]
  },
  {
   "cell_type": "markdown",
   "id": "abb136e4-5797-4c9e-9129-c62c0ccb3e92",
   "metadata": {
    "jp-MarkdownHeadingCollapsed": true,
    "tags": []
   },
   "source": [
    "## test"
   ]
  },
  {
   "cell_type": "code",
   "execution_count": null,
   "id": "834bdc5c-22f8-4f8c-b021-d8b1fa04074c",
   "metadata": {
    "tags": []
   },
   "outputs": [],
   "source": [
    "# 成功\n",
    "\n",
    "test = 'test'\n",
    "\n",
    "exec('df_{} = pd.DataFrame(pd.date_range(start=\"2017-01-01 00:00:00\", end=\"2022-01-01 00:00:00\", freq=\"H\"),columns=[\"NewTime\"])'.format(test))\n",
    "\n",
    "df_test"
   ]
  },
  {
   "cell_type": "code",
   "execution_count": null,
   "id": "2dfcc0a8-f6f9-46f7-85c3-b7be97d17183",
   "metadata": {
    "tags": []
   },
   "outputs": [],
   "source": [
    "# 成功\n",
    "\n",
    "test2 = 'test2'\n",
    "start2=\"2020-01-01 00:00:00\"\n",
    "end2=\"2023-01-01 00:00:00\"\n",
    "exec('df_{} = pd.DataFrame(pd.date_range(start=start2, end=end2, freq=\"H\"),columns=[\"NewTime\"])'.format(test2,start2,end2))\n",
    "\n",
    "df_test2"
   ]
  },
  {
   "cell_type": "code",
   "execution_count": null,
   "id": "fde56803-35cf-41c3-8594-de1b73d71eba",
   "metadata": {},
   "outputs": [],
   "source": [
    "# 失敗...\n",
    "\n",
    "# create a func\n",
    "test3 = 500119088\n",
    "start3 = \"2020-01-01 00:00:00\"\n",
    "end3 = \"2023-01-01 00:00:00\"\n",
    "def func_sno_time(test3,start3,end3):\n",
    "    exec('df_{} = pd.DataFrame(pd.date_range(start=start3, end=end3, freq=\"H\"),columns=[\"NewTime\"])'.format(test3,start3,end3))\n",
    "    "
   ]
  },
  {
   "cell_type": "markdown",
   "id": "ca209a22-adbe-49f5-ad17-9c6f1ccfe168",
   "metadata": {},
   "source": [
    "## create time table"
   ]
  },
  {
   "cell_type": "code",
   "execution_count": null,
   "id": "61c873b4-a45e-4681-b29d-40a1ea26ae1d",
   "metadata": {},
   "outputs": [],
   "source": [
    "\n",
    "#df1['time'].max()\n",
    "end = '2022-04-30 23:00:00'\n",
    "df_end = pd.concat([pd.DataFrame([end], columns = ['end']) for i in range(1417)], ignore_index = True)"
   ]
  },
  {
   "cell_type": "code",
   "execution_count": null,
   "id": "51c5b356-0064-4e00-96df-c4d1a87ac5ce",
   "metadata": {},
   "outputs": [],
   "source": [
    "#end = '2022-04-30 23:00:00'\n",
    "\n",
    "df_time = pd.concat([pd.DataFrame([[sno, starttime, end]], columns=['sno','start','end']) for sno,starttime,end in zip(sno_list, list(df_sno['time']), list(df_end['end']))] ,ignore_index = True)"
   ]
  },
  {
   "cell_type": "code",
   "execution_count": null,
   "id": "0111c600-8376-4633-b960-ceb167e9c263",
   "metadata": {},
   "outputs": [],
   "source": [
    "df_time"
   ]
  },
  {
   "cell_type": "code",
   "execution_count": null,
   "id": "494c969f-e1fe-4ec4-b658-8ed962bf6afb",
   "metadata": {
    "tags": []
   },
   "outputs": [],
   "source": [
    "# 成功了!!!!\n",
    "# https://www.geeksforgeeks.org/exec-in-python/\n",
    "\n",
    "for i in range(1417):\n",
    "    print('index below')\n",
    "    print(i)\n",
    "    \n",
    "    print('sno below')\n",
    "    sno4 = df_time.iloc[i,0]\n",
    "    print(sno4)\n",
    "    \n",
    "    print('start below')\n",
    "    start4 = df_time.iloc[i,1]\n",
    "    print(start4)\n",
    "    \n",
    "    print('end below')\n",
    "    end4 = df_time.iloc[i,2]\n",
    "    print(end4)\n",
    "    \n",
    "    # 產生了1417個df\n",
    "    func_sno_time = 'df_{} = pd.DataFrame(pd.date_range(start=start4, end=end4, freq=\"H\"),columns=[\"NewTime\"])'.format(sno4,start4,end4)\n",
    "    exec(func_sno_time)\n",
    "    \n",
    "    # 幫那1417個df新增欄位sno\n",
    "    add_sno = 'df_{}[\"sno\"] = sno4'.format(sno4)\n",
    "    exec(add_sno)"
   ]
  },
  {
   "cell_type": "code",
   "execution_count": null,
   "id": "aafc6c19-3ceb-47bd-8379-285c4504c32e",
   "metadata": {
    "tags": []
   },
   "outputs": [],
   "source": [
    "# 確認成功\n",
    "\n",
    "df_500104049"
   ]
  },
  {
   "cell_type": "markdown",
   "id": "f5b40c0b-7b2b-4e2d-9a05-93f7aeb734f3",
   "metadata": {},
   "source": [
    "### concat dfs"
   ]
  },
  {
   "cell_type": "code",
   "execution_count": null,
   "id": "8149e666-2076-4a90-abe4-24133996e492",
   "metadata": {
    "tags": []
   },
   "outputs": [],
   "source": [
    "\n",
    "sno_list"
   ]
  },
  {
   "cell_type": "code",
   "execution_count": null,
   "id": "3f62092e-47b8-4a19-8beb-33f28cecb7cf",
   "metadata": {
    "tags": []
   },
   "outputs": [],
   "source": [
    "# numbers = [x * 3 for x in range(10)]\n",
    "\n",
    "list_of_str = [f'df_{sno}' for sno in sno_list]"
   ]
  },
  {
   "cell_type": "code",
   "execution_count": null,
   "id": "6793f9d4-dda2-4713-b69b-314c19d5363a",
   "metadata": {
    "tags": []
   },
   "outputs": [],
   "source": [
    "list_of_str"
   ]
  },
  {
   "cell_type": "code",
   "execution_count": null,
   "id": "e147263d-befc-4493-960c-0c9ced1ab162",
   "metadata": {},
   "outputs": [],
   "source": [
    "list_of_df = [globals()[f'{df}'] for df in list_of_str]"
   ]
  },
  {
   "cell_type": "code",
   "execution_count": null,
   "id": "1c1b4d4b-d260-494c-b6c0-ee35dc84556a",
   "metadata": {
    "tags": []
   },
   "outputs": [],
   "source": [
    "list_of_df"
   ]
  },
  {
   "cell_type": "code",
   "execution_count": null,
   "id": "1182a74d-40dc-46a7-9780-5878f2e17337",
   "metadata": {
    "tags": []
   },
   "outputs": [],
   "source": [
    "df_concatd = pd.concat(list_of_df)"
   ]
  },
  {
   "cell_type": "code",
   "execution_count": null,
   "id": "af962418-9958-475f-b42d-0e2f8cdea8c4",
   "metadata": {},
   "outputs": [],
   "source": [
    "# 原始資料shape\n",
    "\n",
    "df1.shape"
   ]
  },
  {
   "cell_type": "code",
   "execution_count": null,
   "id": "f79d5afa-7e83-42e9-b877-5412f5a59080",
   "metadata": {
    "tags": []
   },
   "outputs": [],
   "source": [
    "# 新增後的資料shape\n",
    "\n",
    "df_concatd.shape"
   ]
  },
  {
   "cell_type": "markdown",
   "id": "b3d0efa0-79a6-42c7-a36e-cbb17c7c9290",
   "metadata": {},
   "source": [
    "### for JJ 租還數量"
   ]
  },
  {
   "cell_type": "code",
   "execution_count": null,
   "id": "4686e184-dc9e-4d15-9b9d-128561514a88",
   "metadata": {},
   "outputs": [],
   "source": [
    "df1.head()"
   ]
  },
  {
   "cell_type": "code",
   "execution_count": null,
   "id": "2fc586ef-8244-4474-a186-3d9f4a48cc14",
   "metadata": {},
   "outputs": [],
   "source": [
    "df_qq = df1[['sno','return_sec','rent_sec','rent_count','return_count']].groupby(by=['sno']).sum()"
   ]
  },
  {
   "cell_type": "code",
   "execution_count": null,
   "id": "c0b8d404-779d-402f-9237-76641d496a15",
   "metadata": {},
   "outputs": [],
   "source": [
    "df_qq.head()"
   ]
  },
  {
   "cell_type": "code",
   "execution_count": null,
   "id": "7e6cfc5b-5b73-418d-acdb-ae434016184c",
   "metadata": {},
   "outputs": [],
   "source": [
    "df_time"
   ]
  },
  {
   "cell_type": "code",
   "execution_count": null,
   "id": "9b46d31a-3905-482a-894a-e525c324249f",
   "metadata": {},
   "outputs": [],
   "source": [
    "df_jj = df_time.merge(df_qq, left_on = 'sno',right_on='sno')"
   ]
  },
  {
   "cell_type": "code",
   "execution_count": null,
   "id": "b30d26e5-5160-4e42-a440-363955eed7b0",
   "metadata": {},
   "outputs": [],
   "source": [
    "df_jj['total_count'] = df_jj['rent_count'] + df_jj['return_count']\n",
    "df_jj['total_sec'] = df_jj['rent_sec'] + df_jj['return_sec']"
   ]
  },
  {
   "cell_type": "code",
   "execution_count": null,
   "id": "92814a75-e1fc-4f4c-9932-a980d194c946",
   "metadata": {},
   "outputs": [],
   "source": [
    "df_jj"
   ]
  },
  {
   "cell_type": "code",
   "execution_count": null,
   "id": "3e311c47-728d-4295-a71b-a8c49bee89c4",
   "metadata": {},
   "outputs": [],
   "source": [
    "import numpy as np\n",
    "\n",
    "df_jj['online_days'] = (pd.to_datetime(df_jj['end']).dt.date - pd.to_datetime(df_jj['start']).dt.date) / np.timedelta64(1, 'D')"
   ]
  },
  {
   "cell_type": "code",
   "execution_count": null,
   "id": "204ca5b0-e472-4b8e-9662-d40d571ba5c8",
   "metadata": {},
   "outputs": [],
   "source": [
    "df_jj['avg_count'] = df_jj['total_count'] / df_jj['online_days']\n",
    "df_jj['avg_sec'] = df_jj['total_sec'] / df_jj['online_days']"
   ]
  },
  {
   "cell_type": "code",
   "execution_count": null,
   "id": "4a3c8001-e3ad-481c-8d2f-88d79737169d",
   "metadata": {},
   "outputs": [],
   "source": [
    "df_jj = df_jj.sort_values(by='avg_count', ascending=False).reset_index(drop=True)"
   ]
  },
  {
   "cell_type": "code",
   "execution_count": null,
   "id": "88c05ea9-aa21-420a-899a-bd14a5994dc9",
   "metadata": {},
   "outputs": [],
   "source": [
    "df_jj"
   ]
  },
  {
   "cell_type": "code",
   "execution_count": null,
   "id": "3a81c817-e2f8-447c-a15e-48d5f155ff03",
   "metadata": {},
   "outputs": [],
   "source": [
    "df_jj = df_jj.drop(['index'],axis=1)"
   ]
  },
  {
   "cell_type": "code",
   "execution_count": null,
   "id": "75d20063-9990-47b8-b503-cb51ddda91e2",
   "metadata": {},
   "outputs": [],
   "source": [
    "q1 = df_jj['avg_count'].quantile(q=0.25)\n",
    "q2 = df_jj['avg_count'].quantile(q=0.5)\n",
    "q3 = df_jj['avg_count'].quantile(q=0.75)"
   ]
  },
  {
   "cell_type": "code",
   "execution_count": null,
   "id": "9595a1ab-fedd-4673-b883-353dc825da4d",
   "metadata": {},
   "outputs": [],
   "source": [
    "print(q1,q2,q3)"
   ]
  },
  {
   "cell_type": "code",
   "execution_count": null,
   "id": "d9c58857-4ad6-4168-8b4c-02b5c060003b",
   "metadata": {},
   "outputs": [],
   "source": [
    "df_jj_A = df_jj[df_jj.avg_count >= q3]"
   ]
  },
  {
   "cell_type": "code",
   "execution_count": null,
   "id": "8ce5dec7-ea16-41aa-9bfb-4716e5e7536f",
   "metadata": {},
   "outputs": [],
   "source": [
    "df_jj_C = df_jj[df_jj.avg_count <= q1]"
   ]
  },
  {
   "cell_type": "code",
   "execution_count": null,
   "id": "5a9aabad-2d23-4c8d-b837-ffb1514d6613",
   "metadata": {},
   "outputs": [],
   "source": [
    "df_jj_B = df_jj[(q3 > df_jj.avg_count) & (df_jj.avg_count > q1)]"
   ]
  },
  {
   "cell_type": "code",
   "execution_count": null,
   "id": "480ae44a-48a2-44bd-98d2-1739ffedbb2b",
   "metadata": {},
   "outputs": [],
   "source": [
    "%pwd"
   ]
  },
  {
   "cell_type": "code",
   "execution_count": null,
   "id": "00b47e35-ada2-4ba0-8e13-364481a7fcb9",
   "metadata": {
    "tags": []
   },
   "outputs": [],
   "source": [
    "df_jj_A['Group']='A'\n",
    "df_jj_B['Group']='B'\n",
    "df_jj_C['Group']='C'"
   ]
  },
  {
   "cell_type": "code",
   "execution_count": null,
   "id": "e9145f03-3aac-44a6-b3d3-7515a66e4446",
   "metadata": {},
   "outputs": [],
   "source": [
    "df_jj_A.to_csv('df_jj_A.csv')\n",
    "df_jj_B.to_csv('df_jj_B.csv')\n",
    "df_jj_C.to_csv('df_jj_C.csv')"
   ]
  },
  {
   "cell_type": "markdown",
   "id": "f2cb6d3a-9c9f-4698-91d7-b27aa1a308b7",
   "metadata": {},
   "source": [
    "### 準備merge"
   ]
  },
  {
   "cell_type": "code",
   "execution_count": null,
   "id": "6c6cfb53-0904-49a3-a831-3635133f795a",
   "metadata": {},
   "outputs": [],
   "source": [
    "df1A = df1.merge(df_jj_A[['sno','Group']], on='sno')\n",
    "df1B = df1.merge(df_jj_B[['sno','Group']], on='sno')\n",
    "df1C = df1.merge(df_jj_C[['sno','Group']], on='sno')"
   ]
  },
  {
   "cell_type": "code",
   "execution_count": null,
   "id": "d9a2c988-b46b-44ef-bcf1-d01939dbc996",
   "metadata": {
    "tags": []
   },
   "outputs": [],
   "source": [
    "df1A"
   ]
  },
  {
   "cell_type": "code",
   "execution_count": null,
   "id": "adf8831b-2bf8-473e-ab42-e4a08da23fea",
   "metadata": {},
   "outputs": [],
   "source": [
    "df1.shape"
   ]
  },
  {
   "cell_type": "code",
   "execution_count": null,
   "id": "d9bb22d4-5a61-4d3a-b6b8-57152f103694",
   "metadata": {},
   "outputs": [],
   "source": [
    "print(df1A.shape,df1B.shape,df1C.shape)"
   ]
  },
  {
   "cell_type": "code",
   "execution_count": null,
   "id": "2fbd957c-0daa-4374-abb8-04882f2d2770",
   "metadata": {},
   "outputs": [],
   "source": [
    "df1A = df1A.sort_values(by=['sno','time']).reset_index(drop=True)"
   ]
  },
  {
   "cell_type": "code",
   "execution_count": null,
   "id": "aa57da07-5c33-4c9c-b9ac-62f77b1afeeb",
   "metadata": {},
   "outputs": [],
   "source": [
    "df1B = df1B.sort_values(by=['sno','time']).reset_index(drop=True)\n",
    "df1C = df1C.sort_values(by=['sno','time']).reset_index(drop=True)"
   ]
  },
  {
   "cell_type": "code",
   "execution_count": null,
   "id": "7bc2828d-4d57-420e-bfd6-b45be3c517a6",
   "metadata": {
    "tags": []
   },
   "outputs": [],
   "source": [
    "df1A"
   ]
  },
  {
   "cell_type": "code",
   "execution_count": null,
   "id": "111ce56d-7a69-430c-a713-5aee2da6047e",
   "metadata": {},
   "outputs": [],
   "source": [
    "df1A.to_csv('df1A.csv',index=False)\n",
    "df1B.to_csv('df1B.csv',index=False)\n",
    "df1C.to_csv('df1C.csv',index=False)"
   ]
  },
  {
   "cell_type": "code",
   "execution_count": null,
   "id": "7970d73e-10ac-4748-97a8-ddcfc9a6d37a",
   "metadata": {},
   "outputs": [],
   "source": []
  }
 ],
 "metadata": {
  "kernelspec": {
   "display_name": "Python 3 (ipykernel)",
   "language": "python",
   "name": "python3"
  },
  "language_info": {
   "codemirror_mode": {
    "name": "ipython",
    "version": 3
   },
   "file_extension": ".py",
   "mimetype": "text/x-python",
   "name": "python",
   "nbconvert_exporter": "python",
   "pygments_lexer": "ipython3",
   "version": "3.9.12"
  }
 },
 "nbformat": 4,
 "nbformat_minor": 5
}
