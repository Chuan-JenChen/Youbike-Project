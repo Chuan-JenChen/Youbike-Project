{
 "cells": [
  {
   "cell_type": "code",
   "execution_count": 7,
   "metadata": {},
   "outputs": [
    {
     "data": {
      "text/plain": [
       "'e:\\\\YOUBIKE專案資料\\\\Model'"
      ]
     },
     "execution_count": 7,
     "metadata": {},
     "output_type": "execute_result"
    }
   ],
   "source": [
    "from sklearn.cluster import KMeans\n",
    "import pandas as pd  \n",
    "import numpy as np  \n",
    "from sklearn.model_selection import GridSearchCV\n",
    "from pandas import Series,DataFrame\n",
    "import matplotlib.pyplot as plt \n",
    "from sklearn.preprocessing import LabelEncoder \n",
    "%pwd"
   ]
  },
  {
   "cell_type": "code",
   "execution_count": 8,
   "metadata": {},
   "outputs": [],
   "source": [
    "Bike = pd.read_csv(\"D:/BDSE26/df_0907.csv\", sep=\",\",nrows = 1000000)"
   ]
  },
  {
   "cell_type": "code",
   "execution_count": null,
   "metadata": {},
   "outputs": [],
   "source": [
    "Bike['sno'].astype('str')\n",
    "Bike['Hr'].astype('str')"
   ]
  },
  {
   "cell_type": "code",
   "execution_count": 9,
   "metadata": {},
   "outputs": [],
   "source": [
    "ds = DataFrame(Bike)\n",
    "X_choice = ds.loc[:,['sno', 'Hr', 'holiday', 'school_off', 'rain', 'tot']]"
   ]
  },
  {
   "cell_type": "code",
   "execution_count": 10,
   "metadata": {},
   "outputs": [
    {
     "ename": "MemoryError",
     "evalue": "Unable to allocate 1022. MiB for an array with shape (134, 1000000) and data type float64",
     "output_type": "error",
     "traceback": [
      "\u001b[1;31m---------------------------------------------------------------------------\u001b[0m",
      "\u001b[1;31mMemoryError\u001b[0m                               Traceback (most recent call last)",
      "\u001b[1;32me:\\YOUBIKE專案資料\\Model\\資料後分群(K-means).ipynb Cell 4\u001b[0m in \u001b[0;36m<cell line: 9>\u001b[1;34m()\u001b[0m\n\u001b[0;32m      <a href='vscode-notebook-cell:/e%3A/YOUBIKE%E5%B0%88%E6%A1%88%E8%B3%87%E6%96%99/Model/%E8%B3%87%E6%96%99%E5%BE%8C%E5%88%86%E7%BE%A4%28K-means%29.ipynb#W3sZmlsZQ%3D%3D?line=4'>5</a>\u001b[0m inertias \u001b[39m=\u001b[39m [model\u001b[39m.\u001b[39minertia_ \u001b[39mfor\u001b[39;00m model \u001b[39min\u001b[39;00m kmeans_list]\n\u001b[0;32m      <a href='vscode-notebook-cell:/e%3A/YOUBIKE%E5%B0%88%E6%A1%88%E8%B3%87%E6%96%99/Model/%E8%B3%87%E6%96%99%E5%BE%8C%E5%88%86%E7%BE%A4%28K-means%29.ipynb#W3sZmlsZQ%3D%3D?line=6'>7</a>\u001b[0m \u001b[39mfrom\u001b[39;00m \u001b[39msklearn\u001b[39;00m\u001b[39m.\u001b[39;00m\u001b[39mmetrics\u001b[39;00m \u001b[39mimport\u001b[39;00m silhouette_score\n\u001b[1;32m----> <a href='vscode-notebook-cell:/e%3A/YOUBIKE%E5%B0%88%E6%A1%88%E8%B3%87%E6%96%99/Model/%E8%B3%87%E6%96%99%E5%BE%8C%E5%88%86%E7%BE%A4%28K-means%29.ipynb#W3sZmlsZQ%3D%3D?line=8'>9</a>\u001b[0m silhouette_scores \u001b[39m=\u001b[39m [\n\u001b[0;32m     <a href='vscode-notebook-cell:/e%3A/YOUBIKE%E5%B0%88%E6%A1%88%E8%B3%87%E6%96%99/Model/%E8%B3%87%E6%96%99%E5%BE%8C%E5%88%86%E7%BE%A4%28K-means%29.ipynb#W3sZmlsZQ%3D%3D?line=9'>10</a>\u001b[0m     silhouette_score(X_choice, model\u001b[39m.\u001b[39mlabels_) \u001b[39mfor\u001b[39;00m model \u001b[39min\u001b[39;00m kmeans_list[\u001b[39m1\u001b[39m:]\n\u001b[0;32m     <a href='vscode-notebook-cell:/e%3A/YOUBIKE%E5%B0%88%E6%A1%88%E8%B3%87%E6%96%99/Model/%E8%B3%87%E6%96%99%E5%BE%8C%E5%88%86%E7%BE%A4%28K-means%29.ipynb#W3sZmlsZQ%3D%3D?line=10'>11</a>\u001b[0m ]\n\u001b[0;32m     <a href='vscode-notebook-cell:/e%3A/YOUBIKE%E5%B0%88%E6%A1%88%E8%B3%87%E6%96%99/Model/%E8%B3%87%E6%96%99%E5%BE%8C%E5%88%86%E7%BE%A4%28K-means%29.ipynb#W3sZmlsZQ%3D%3D?line=12'>13</a>\u001b[0m \u001b[39m#畫圖看分幾群最好\u001b[39;00m\n\u001b[0;32m     <a href='vscode-notebook-cell:/e%3A/YOUBIKE%E5%B0%88%E6%A1%88%E8%B3%87%E6%96%99/Model/%E8%B3%87%E6%96%99%E5%BE%8C%E5%88%86%E7%BE%A4%28K-means%29.ipynb#W3sZmlsZQ%3D%3D?line=13'>14</a>\u001b[0m iner \u001b[39m=\u001b[39m []\n",
      "\u001b[1;32me:\\YOUBIKE專案資料\\Model\\資料後分群(K-means).ipynb Cell 4\u001b[0m in \u001b[0;36m<listcomp>\u001b[1;34m(.0)\u001b[0m\n\u001b[0;32m      <a href='vscode-notebook-cell:/e%3A/YOUBIKE%E5%B0%88%E6%A1%88%E8%B3%87%E6%96%99/Model/%E8%B3%87%E6%96%99%E5%BE%8C%E5%88%86%E7%BE%A4%28K-means%29.ipynb#W3sZmlsZQ%3D%3D?line=4'>5</a>\u001b[0m inertias \u001b[39m=\u001b[39m [model\u001b[39m.\u001b[39minertia_ \u001b[39mfor\u001b[39;00m model \u001b[39min\u001b[39;00m kmeans_list]\n\u001b[0;32m      <a href='vscode-notebook-cell:/e%3A/YOUBIKE%E5%B0%88%E6%A1%88%E8%B3%87%E6%96%99/Model/%E8%B3%87%E6%96%99%E5%BE%8C%E5%88%86%E7%BE%A4%28K-means%29.ipynb#W3sZmlsZQ%3D%3D?line=6'>7</a>\u001b[0m \u001b[39mfrom\u001b[39;00m \u001b[39msklearn\u001b[39;00m\u001b[39m.\u001b[39;00m\u001b[39mmetrics\u001b[39;00m \u001b[39mimport\u001b[39;00m silhouette_score\n\u001b[0;32m      <a href='vscode-notebook-cell:/e%3A/YOUBIKE%E5%B0%88%E6%A1%88%E8%B3%87%E6%96%99/Model/%E8%B3%87%E6%96%99%E5%BE%8C%E5%88%86%E7%BE%A4%28K-means%29.ipynb#W3sZmlsZQ%3D%3D?line=8'>9</a>\u001b[0m silhouette_scores \u001b[39m=\u001b[39m [\n\u001b[1;32m---> <a href='vscode-notebook-cell:/e%3A/YOUBIKE%E5%B0%88%E6%A1%88%E8%B3%87%E6%96%99/Model/%E8%B3%87%E6%96%99%E5%BE%8C%E5%88%86%E7%BE%A4%28K-means%29.ipynb#W3sZmlsZQ%3D%3D?line=9'>10</a>\u001b[0m     silhouette_score(X_choice, model\u001b[39m.\u001b[39;49mlabels_) \u001b[39mfor\u001b[39;00m model \u001b[39min\u001b[39;00m kmeans_list[\u001b[39m1\u001b[39m:]\n\u001b[0;32m     <a href='vscode-notebook-cell:/e%3A/YOUBIKE%E5%B0%88%E6%A1%88%E8%B3%87%E6%96%99/Model/%E8%B3%87%E6%96%99%E5%BE%8C%E5%88%86%E7%BE%A4%28K-means%29.ipynb#W3sZmlsZQ%3D%3D?line=10'>11</a>\u001b[0m ]\n\u001b[0;32m     <a href='vscode-notebook-cell:/e%3A/YOUBIKE%E5%B0%88%E6%A1%88%E8%B3%87%E6%96%99/Model/%E8%B3%87%E6%96%99%E5%BE%8C%E5%88%86%E7%BE%A4%28K-means%29.ipynb#W3sZmlsZQ%3D%3D?line=12'>13</a>\u001b[0m \u001b[39m#畫圖看分幾群最好\u001b[39;00m\n\u001b[0;32m     <a href='vscode-notebook-cell:/e%3A/YOUBIKE%E5%B0%88%E6%A1%88%E8%B3%87%E6%96%99/Model/%E8%B3%87%E6%96%99%E5%BE%8C%E5%88%86%E7%BE%A4%28K-means%29.ipynb#W3sZmlsZQ%3D%3D?line=13'>14</a>\u001b[0m iner \u001b[39m=\u001b[39m []\n",
      "File \u001b[1;32md:\\anaconda\\lib\\site-packages\\sklearn\\metrics\\cluster\\_unsupervised.py:117\u001b[0m, in \u001b[0;36msilhouette_score\u001b[1;34m(X, labels, metric, sample_size, random_state, **kwds)\u001b[0m\n\u001b[0;32m    115\u001b[0m     \u001b[39melse\u001b[39;00m:\n\u001b[0;32m    116\u001b[0m         X, labels \u001b[39m=\u001b[39m X[indices], labels[indices]\n\u001b[1;32m--> 117\u001b[0m \u001b[39mreturn\u001b[39;00m np\u001b[39m.\u001b[39mmean(silhouette_samples(X, labels, metric\u001b[39m=\u001b[39mmetric, \u001b[39m*\u001b[39m\u001b[39m*\u001b[39mkwds))\n",
      "File \u001b[1;32md:\\anaconda\\lib\\site-packages\\sklearn\\metrics\\cluster\\_unsupervised.py:233\u001b[0m, in \u001b[0;36msilhouette_samples\u001b[1;34m(X, labels, metric, **kwds)\u001b[0m\n\u001b[0;32m    229\u001b[0m kwds[\u001b[39m\"\u001b[39m\u001b[39mmetric\u001b[39m\u001b[39m\"\u001b[39m] \u001b[39m=\u001b[39m metric\n\u001b[0;32m    230\u001b[0m reduce_func \u001b[39m=\u001b[39m functools\u001b[39m.\u001b[39mpartial(\n\u001b[0;32m    231\u001b[0m     _silhouette_reduce, labels\u001b[39m=\u001b[39mlabels, label_freqs\u001b[39m=\u001b[39mlabel_freqs\n\u001b[0;32m    232\u001b[0m )\n\u001b[1;32m--> 233\u001b[0m results \u001b[39m=\u001b[39m \u001b[39mzip\u001b[39;49m(\u001b[39m*\u001b[39;49mpairwise_distances_chunked(X, reduce_func\u001b[39m=\u001b[39;49mreduce_func, \u001b[39m*\u001b[39;49m\u001b[39m*\u001b[39;49mkwds))\n\u001b[0;32m    234\u001b[0m intra_clust_dists, inter_clust_dists \u001b[39m=\u001b[39m results\n\u001b[0;32m    235\u001b[0m intra_clust_dists \u001b[39m=\u001b[39m np\u001b[39m.\u001b[39mconcatenate(intra_clust_dists)\n",
      "File \u001b[1;32md:\\anaconda\\lib\\site-packages\\sklearn\\metrics\\pairwise.py:1717\u001b[0m, in \u001b[0;36mpairwise_distances_chunked\u001b[1;34m(X, Y, reduce_func, metric, n_jobs, working_memory, **kwds)\u001b[0m\n\u001b[0;32m   1715\u001b[0m \u001b[39melse\u001b[39;00m:\n\u001b[0;32m   1716\u001b[0m     X_chunk \u001b[39m=\u001b[39m X[sl]\n\u001b[1;32m-> 1717\u001b[0m D_chunk \u001b[39m=\u001b[39m pairwise_distances(X_chunk, Y, metric\u001b[39m=\u001b[39mmetric, n_jobs\u001b[39m=\u001b[39mn_jobs, \u001b[39m*\u001b[39m\u001b[39m*\u001b[39mkwds)\n\u001b[0;32m   1718\u001b[0m \u001b[39mif\u001b[39;00m (X \u001b[39mis\u001b[39;00m Y \u001b[39mor\u001b[39;00m Y \u001b[39mis\u001b[39;00m \u001b[39mNone\u001b[39;00m) \u001b[39mand\u001b[39;00m PAIRWISE_DISTANCE_FUNCTIONS\u001b[39m.\u001b[39mget(\n\u001b[0;32m   1719\u001b[0m     metric, \u001b[39mNone\u001b[39;00m\n\u001b[0;32m   1720\u001b[0m ) \u001b[39mis\u001b[39;00m euclidean_distances:\n\u001b[0;32m   1721\u001b[0m     \u001b[39m# zeroing diagonal, taking care of aliases of \"euclidean\",\u001b[39;00m\n\u001b[0;32m   1722\u001b[0m     \u001b[39m# i.e. \"l2\"\u001b[39;00m\n\u001b[0;32m   1723\u001b[0m     D_chunk\u001b[39m.\u001b[39mflat[sl\u001b[39m.\u001b[39mstart :: _num_samples(X) \u001b[39m+\u001b[39m \u001b[39m1\u001b[39m] \u001b[39m=\u001b[39m \u001b[39m0\u001b[39m\n",
      "File \u001b[1;32md:\\anaconda\\lib\\site-packages\\sklearn\\metrics\\pairwise.py:1889\u001b[0m, in \u001b[0;36mpairwise_distances\u001b[1;34m(X, Y, metric, n_jobs, force_all_finite, **kwds)\u001b[0m\n\u001b[0;32m   1886\u001b[0m         \u001b[39mreturn\u001b[39;00m distance\u001b[39m.\u001b[39msquareform(distance\u001b[39m.\u001b[39mpdist(X, metric\u001b[39m=\u001b[39mmetric, \u001b[39m*\u001b[39m\u001b[39m*\u001b[39mkwds))\n\u001b[0;32m   1887\u001b[0m     func \u001b[39m=\u001b[39m partial(distance\u001b[39m.\u001b[39mcdist, metric\u001b[39m=\u001b[39mmetric, \u001b[39m*\u001b[39m\u001b[39m*\u001b[39mkwds)\n\u001b[1;32m-> 1889\u001b[0m \u001b[39mreturn\u001b[39;00m _parallel_pairwise(X, Y, func, n_jobs, \u001b[39m*\u001b[39m\u001b[39m*\u001b[39mkwds)\n",
      "File \u001b[1;32md:\\anaconda\\lib\\site-packages\\sklearn\\metrics\\pairwise.py:1430\u001b[0m, in \u001b[0;36m_parallel_pairwise\u001b[1;34m(X, Y, func, n_jobs, **kwds)\u001b[0m\n\u001b[0;32m   1427\u001b[0m X, Y, dtype \u001b[39m=\u001b[39m _return_float_dtype(X, Y)\n\u001b[0;32m   1429\u001b[0m \u001b[39mif\u001b[39;00m effective_n_jobs(n_jobs) \u001b[39m==\u001b[39m \u001b[39m1\u001b[39m:\n\u001b[1;32m-> 1430\u001b[0m     \u001b[39mreturn\u001b[39;00m func(X, Y, \u001b[39m*\u001b[39m\u001b[39m*\u001b[39mkwds)\n\u001b[0;32m   1432\u001b[0m \u001b[39m# enforce a threading backend to prevent data communication overhead\u001b[39;00m\n\u001b[0;32m   1433\u001b[0m fd \u001b[39m=\u001b[39m delayed(_dist_wrapper)\n",
      "File \u001b[1;32md:\\anaconda\\lib\\site-packages\\sklearn\\metrics\\pairwise.py:330\u001b[0m, in \u001b[0;36meuclidean_distances\u001b[1;34m(X, Y, Y_norm_squared, squared, X_norm_squared)\u001b[0m\n\u001b[0;32m    324\u001b[0m     \u001b[39mif\u001b[39;00m Y_norm_squared\u001b[39m.\u001b[39mshape \u001b[39m!=\u001b[39m (\u001b[39m1\u001b[39m, Y\u001b[39m.\u001b[39mshape[\u001b[39m0\u001b[39m]):\n\u001b[0;32m    325\u001b[0m         \u001b[39mraise\u001b[39;00m \u001b[39mValueError\u001b[39;00m(\n\u001b[0;32m    326\u001b[0m             \u001b[39mf\u001b[39m\u001b[39m\"\u001b[39m\u001b[39mIncompatible dimensions for Y of shape \u001b[39m\u001b[39m{\u001b[39;00mY\u001b[39m.\u001b[39mshape\u001b[39m}\u001b[39;00m\u001b[39m and \u001b[39m\u001b[39m\"\u001b[39m\n\u001b[0;32m    327\u001b[0m             \u001b[39mf\u001b[39m\u001b[39m\"\u001b[39m\u001b[39mY_norm_squared of shape \u001b[39m\u001b[39m{\u001b[39;00moriginal_shape\u001b[39m}\u001b[39;00m\u001b[39m.\u001b[39m\u001b[39m\"\u001b[39m\n\u001b[0;32m    328\u001b[0m         )\n\u001b[1;32m--> 330\u001b[0m \u001b[39mreturn\u001b[39;00m _euclidean_distances(X, Y, X_norm_squared, Y_norm_squared, squared)\n",
      "File \u001b[1;32md:\\anaconda\\lib\\site-packages\\sklearn\\metrics\\pairwise.py:371\u001b[0m, in \u001b[0;36m_euclidean_distances\u001b[1;34m(X, Y, X_norm_squared, Y_norm_squared, squared)\u001b[0m\n\u001b[0;32m    368\u001b[0m     distances \u001b[39m=\u001b[39m _euclidean_distances_upcast(X, XX, Y, YY)\n\u001b[0;32m    369\u001b[0m \u001b[39melse\u001b[39;00m:\n\u001b[0;32m    370\u001b[0m     \u001b[39m# if dtype is already float64, no need to chunk and upcast\u001b[39;00m\n\u001b[1;32m--> 371\u001b[0m     distances \u001b[39m=\u001b[39m \u001b[39m-\u001b[39;49m\u001b[39m2\u001b[39;49m \u001b[39m*\u001b[39;49m safe_sparse_dot(X, Y\u001b[39m.\u001b[39;49mT, dense_output\u001b[39m=\u001b[39;49m\u001b[39mTrue\u001b[39;49;00m)\n\u001b[0;32m    372\u001b[0m     distances \u001b[39m+\u001b[39m\u001b[39m=\u001b[39m XX\n\u001b[0;32m    373\u001b[0m     distances \u001b[39m+\u001b[39m\u001b[39m=\u001b[39m YY\n",
      "\u001b[1;31mMemoryError\u001b[0m: Unable to allocate 1022. MiB for an array with shape (134, 1000000) and data type float64"
     ]
    }
   ],
   "source": [
    "# K-MEAN 畫圖\n",
    "kmeans_list = [\n",
    "    KMeans(n_clusters=k, random_state=46).fit(X_choice) for k in range(1, 20)\n",
    "]\n",
    "inertias = [model.inertia_ for model in kmeans_list]\n",
    "\n",
    "from sklearn.metrics import silhouette_score\n",
    "\n",
    "silhouette_scores = [\n",
    "    silhouette_score(X_choice, model.labels_) for model in kmeans_list[1:]\n",
    "]\n",
    "\n",
    "#畫圖看分幾群最好\n",
    "iner = []\n",
    "for i in range(2, 20):\n",
    "    model = KMeans(init=\"k-means++\", n_clusters=i)\n",
    "    model.fit(X_choice)\n",
    "    iner.append(model.inertia_)\n",
    "plt.plot(range(2, 20), iner)\n",
    "plt.xlabel('Number of Clusters')\n",
    "plt.ylabel('inertia')\n",
    "plt.xticks(range(2, 20, 1))\n",
    "plt.show()\n",
    "\n"
   ]
  },
  {
   "cell_type": "code",
   "execution_count": null,
   "metadata": {},
   "outputs": [],
   "source": [
    "# 可以自己先自己設定分幾群\n",
    "kmeansModel = KMeans(n_clusters=4, random_state=46)\n",
    "clusters_pred = kmeansModel.fit_predict(X_choice)\n",
    "Bike['k_meeans'] = clusters_pred\n",
    "Bike"
   ]
  },
  {
   "cell_type": "code",
   "execution_count": null,
   "metadata": {},
   "outputs": [],
   "source": [
    "Bike.to_csv('E:/YOUBIKE專案資料/Bike_kmeans_data.csv')"
   ]
  }
 ],
 "metadata": {
  "kernelspec": {
   "display_name": "Python 3.9.12 ('base')",
   "language": "python",
   "name": "python3"
  },
  "language_info": {
   "codemirror_mode": {
    "name": "ipython",
    "version": 3
   },
   "file_extension": ".py",
   "mimetype": "text/x-python",
   "name": "python",
   "nbconvert_exporter": "python",
   "pygments_lexer": "ipython3",
   "version": "3.9.12"
  },
  "orig_nbformat": 4,
  "vscode": {
   "interpreter": {
    "hash": "5179d32cf6ec497baf3f8a3ef987cc77c5d2dc691fdde20a56316522f61a7323"
   }
  }
 },
 "nbformat": 4,
 "nbformat_minor": 2
}
