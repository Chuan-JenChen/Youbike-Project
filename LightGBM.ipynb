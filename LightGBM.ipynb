{
 "cells": [
  {
   "cell_type": "code",
   "execution_count": 1,
   "metadata": {},
   "outputs": [
    {
     "ename": "ModuleNotFoundError",
     "evalue": "No module named 'lightgbm'",
     "output_type": "error",
     "traceback": [
      "\u001b[1;31m---------------------------------------------------------------------------\u001b[0m",
      "\u001b[1;31mModuleNotFoundError\u001b[0m                       Traceback (most recent call last)",
      "\u001b[1;32mc:\\BDSE26\\LightGBM.ipynb Cell 1\u001b[0m in \u001b[0;36m<cell line: 7>\u001b[1;34m()\u001b[0m\n\u001b[0;32m      <a href='vscode-notebook-cell:/c%3A/BDSE26/LightGBM.ipynb#W0sZmlsZQ%3D%3D?line=4'>5</a>\u001b[0m \u001b[39mfrom\u001b[39;00m \u001b[39mpandas\u001b[39;00m \u001b[39mimport\u001b[39;00m Series,DataFrame\n\u001b[0;32m      <a href='vscode-notebook-cell:/c%3A/BDSE26/LightGBM.ipynb#W0sZmlsZQ%3D%3D?line=5'>6</a>\u001b[0m \u001b[39mimport\u001b[39;00m \u001b[39mmatplotlib\u001b[39;00m\u001b[39m.\u001b[39;00m\u001b[39mpyplot\u001b[39;00m \u001b[39mas\u001b[39;00m \u001b[39mplt\u001b[39;00m \n\u001b[1;32m----> <a href='vscode-notebook-cell:/c%3A/BDSE26/LightGBM.ipynb#W0sZmlsZQ%3D%3D?line=6'>7</a>\u001b[0m \u001b[39mimport\u001b[39;00m \u001b[39mlightgbm\u001b[39;00m \u001b[39mas\u001b[39;00m \u001b[39mLGB\u001b[39;00m\n\u001b[0;32m      <a href='vscode-notebook-cell:/c%3A/BDSE26/LightGBM.ipynb#W0sZmlsZQ%3D%3D?line=7'>8</a>\u001b[0m get_ipython()\u001b[39m.\u001b[39mrun_line_magic(\u001b[39m'\u001b[39m\u001b[39mpwd\u001b[39m\u001b[39m'\u001b[39m, \u001b[39m'\u001b[39m\u001b[39m'\u001b[39m)\n\u001b[0;32m      <a href='vscode-notebook-cell:/c%3A/BDSE26/LightGBM.ipynb#W0sZmlsZQ%3D%3D?line=8'>9</a>\u001b[0m \u001b[39mfrom\u001b[39;00m \u001b[39msklearn\u001b[39;00m\u001b[39m.\u001b[39;00m\u001b[39mmodel_selection\u001b[39;00m \u001b[39mimport\u001b[39;00m train_test_split\n",
      "\u001b[1;31mModuleNotFoundError\u001b[0m: No module named 'lightgbm'"
     ]
    }
   ],
   "source": [
    "from sklearn.cluster import KMeans\n",
    "import pandas as pd  \n",
    "import numpy as np  \n",
    "from sklearn.model_selection import GridSearchCV\n",
    "from pandas import Series,DataFrame\n",
    "import matplotlib.pyplot as plt \n",
    "import lightgbm as LGB\n",
    "%pwd\n",
    "from sklearn.model_selection import train_test_split"
   ]
  },
  {
   "cell_type": "code",
   "execution_count": null,
   "metadata": {},
   "outputs": [],
   "source": [
    "Bike = pd.read_csv(\"C:/BDSE26/df_0907.csv\", sep=\",\")\n",
    "X_choice_reindex = Bike.reindex(columns=[\n",
    "    'sno', 'Hr', 'RH', 'MRT_Dist', 'School_Dist', 'tot', 'remaining_vehicles'\n",
    "    'Temperature', 'Precp', 'MRT_Out_ppl', 'MRT_Dist', 'School_Dist',\n",
    "    'rent_count'\n",
    "])\n",
    "ds = X_choice_reindex.values\n",
    "X = ds[:, 0:11]\n",
    "y = ds[:, 11]\n",
    "y = y.astype('int64')\n",
    "X_train, X_test, y_train, y_test = train_test_split(X, y, test_size=0.20)\n"
   ]
  },
  {
   "cell_type": "code",
   "execution_count": null,
   "metadata": {},
   "outputs": [],
   "source": [
    "from sklearn.metrics import mean_absolute_error,mean_squared_error,median_absolute_error,mean_absolute_percentage_error\n",
    "#定義回歸模型評估誤差指標\n",
    "def median_absolute_percentage_error(y_true,y_pred):\n",
    "    return np.median(np.abs((y_pred-y_true)/y_true))\n",
    "def regression_metrics(true,pred):\n",
    "    print('回歸模型評估指標結果:')\n",
    "    print('均方誤差【MSE】:', mean_squared_error(true, pred))\n",
    "    print('均方根誤差【RMSE】:',np.sqrt(mean_squared_error(true,pred)))\n",
    "    print('平均絕對誤差【MAE】:',mean_absolute_error(true,pred))\n",
    "    print('絕對誤差中位數【MedianAE】:',median_absolute_error(true,pred))\n",
    "    print('平均絕對百分比誤差【MAPE】:',mean_absolute_percentage_error(true,pred))\n",
    "    print('絕對百分比誤差中位數【MedianAPE】:',median_absolute_percentage_error(true,pred))"
   ]
  },
  {
   "cell_type": "code",
   "execution_count": null,
   "metadata": {},
   "outputs": [],
   "source": [
    "#建立LGB的格式數據\n",
    "lgb_train = LGB.Dataset(X_train, y_train)\n",
    "lgb_eval = LGB.Dataset(X_test, y_test, reference=lgb_train)\n",
    "#定義超参数dict\n",
    "params = {\n",
    "        'n_estimators': 100,\n",
    "            # 'task': 'train',\n",
    "            # 'boosting_type': 'gbdt',\n",
    "            # 'objective': i,\n",
    "            # 'metric':k,\n",
    "            # 'max_depth': 7,\n",
    "        'num_leaves': 10,\n",
    "            # 'learning_rate': 0.1,\n",
    "            # 'feature_fraction': 0.8,\n",
    "            # 'bagging_fraction': 0.8,\n",
    "            # 'bagging_freq': 5,\n",
    "        'verbose': -1,\n",
    "        'n_jobs': 7\n",
    "}"
   ]
  },
  {
   "cell_type": "code",
   "execution_count": null,
   "metadata": {},
   "outputs": [],
   "source": [
    "#定義callback回調\n",
    "callback=[LGB.early_stopping(stopping_rounds=10,verbose=True),\n",
    "          LGB.log_evaluation(period=10,show_stdv=True)]"
   ]
  },
  {
   "cell_type": "code",
   "execution_count": null,
   "metadata": {},
   "outputs": [
    {
     "name": "stdout",
     "output_type": "stream",
     "text": [
      "Training until validation scores don't improve for 10 rounds\n",
      "[10]\ttraining's l2: 62.7137\tvalid_1's l2: 62.4379\n",
      "[20]\ttraining's l2: 50.7359\tvalid_1's l2: 50.4574\n",
      "[30]\ttraining's l2: 44.9958\tvalid_1's l2: 44.7735\n",
      "[40]\ttraining's l2: 42.0811\tvalid_1's l2: 41.89\n",
      "[50]\ttraining's l2: 40.3268\tvalid_1's l2: 40.1431\n",
      "[60]\ttraining's l2: 39.1442\tvalid_1's l2: 38.962\n",
      "[70]\ttraining's l2: 38.0535\tvalid_1's l2: 37.8801\n",
      "[80]\ttraining's l2: 37.0753\tvalid_1's l2: 36.9061\n",
      "[90]\ttraining's l2: 36.4234\tvalid_1's l2: 36.2584\n",
      "[100]\ttraining's l2: 35.7769\tvalid_1's l2: 35.6181\n",
      "[110]\ttraining's l2: 35.3232\tvalid_1's l2: 35.1737\n",
      "[120]\ttraining's l2: 34.7975\tvalid_1's l2: 34.6636\n",
      "[130]\ttraining's l2: 34.4587\tvalid_1's l2: 34.3329\n",
      "[140]\ttraining's l2: 34.1105\tvalid_1's l2: 33.9904\n",
      "[150]\ttraining's l2: 33.8777\tvalid_1's l2: 33.7621\n",
      "[160]\ttraining's l2: 33.5736\tvalid_1's l2: 33.4683\n",
      "[170]\ttraining's l2: 33.3018\tvalid_1's l2: 33.2003\n",
      "[180]\ttraining's l2: 33.1037\tvalid_1's l2: 33.0127\n",
      "[190]\ttraining's l2: 32.9342\tvalid_1's l2: 32.8474\n",
      "[200]\ttraining's l2: 32.7422\tvalid_1's l2: 32.6539\n",
      "[210]\ttraining's l2: 32.6182\tvalid_1's l2: 32.5374\n",
      "[220]\ttraining's l2: 32.4715\tvalid_1's l2: 32.3961\n",
      "[230]\ttraining's l2: 32.3197\tvalid_1's l2: 32.2482\n",
      "[240]\ttraining's l2: 32.157\tvalid_1's l2: 32.0884\n",
      "[250]\ttraining's l2: 32.0104\tvalid_1's l2: 31.9439\n",
      "[260]\ttraining's l2: 31.7964\tvalid_1's l2: 31.7328\n",
      "[270]\ttraining's l2: 31.677\tvalid_1's l2: 31.6157\n",
      "[280]\ttraining's l2: 31.5456\tvalid_1's l2: 31.4853\n",
      "[290]\ttraining's l2: 31.4712\tvalid_1's l2: 31.4137\n",
      "[300]\ttraining's l2: 31.3367\tvalid_1's l2: 31.2829\n",
      "[310]\ttraining's l2: 31.232\tvalid_1's l2: 31.1853\n",
      "[320]\ttraining's l2: 31.0692\tvalid_1's l2: 31.0253\n",
      "[330]\ttraining's l2: 30.9856\tvalid_1's l2: 30.9444\n",
      "[340]\ttraining's l2: 30.8299\tvalid_1's l2: 30.7969\n",
      "[350]\ttraining's l2: 30.6706\tvalid_1's l2: 30.6471\n",
      "[360]\ttraining's l2: 30.6269\tvalid_1's l2: 30.6075\n",
      "[370]\ttraining's l2: 30.5312\tvalid_1's l2: 30.5185\n",
      "[380]\ttraining's l2: 30.464\tvalid_1's l2: 30.4528\n",
      "[390]\ttraining's l2: 30.3386\tvalid_1's l2: 30.3388\n",
      "[400]\ttraining's l2: 30.254\tvalid_1's l2: 30.261\n",
      "[410]\ttraining's l2: 30.1868\tvalid_1's l2: 30.1954\n",
      "[420]\ttraining's l2: 30.1266\tvalid_1's l2: 30.1387\n",
      "[430]\ttraining's l2: 30.0875\tvalid_1's l2: 30.1083\n",
      "[440]\ttraining's l2: 30.0223\tvalid_1's l2: 30.0459\n",
      "[450]\ttraining's l2: 29.956\tvalid_1's l2: 29.9834\n",
      "[460]\ttraining's l2: 29.9078\tvalid_1's l2: 29.936\n",
      "[470]\ttraining's l2: 29.8653\tvalid_1's l2: 29.8972\n",
      "[480]\ttraining's l2: 29.817\tvalid_1's l2: 29.8518\n",
      "[490]\ttraining's l2: 29.7518\tvalid_1's l2: 29.786\n",
      "[500]\ttraining's l2: 29.7144\tvalid_1's l2: 29.7515\n",
      "[510]\ttraining's l2: 29.6616\tvalid_1's l2: 29.7038\n",
      "[520]\ttraining's l2: 29.5935\tvalid_1's l2: 29.6437\n",
      "[530]\ttraining's l2: 29.5504\tvalid_1's l2: 29.603\n",
      "[540]\ttraining's l2: 29.5036\tvalid_1's l2: 29.5576\n",
      "[550]\ttraining's l2: 29.4483\tvalid_1's l2: 29.5034\n",
      "[560]\ttraining's l2: 29.3743\tvalid_1's l2: 29.4324\n",
      "[570]\ttraining's l2: 29.3372\tvalid_1's l2: 29.3988\n",
      "[580]\ttraining's l2: 29.2953\tvalid_1's l2: 29.3596\n",
      "[590]\ttraining's l2: 29.2473\tvalid_1's l2: 29.3164\n",
      "[600]\ttraining's l2: 29.2003\tvalid_1's l2: 29.2713\n",
      "[610]\ttraining's l2: 29.1517\tvalid_1's l2: 29.2266\n",
      "[620]\ttraining's l2: 29.1075\tvalid_1's l2: 29.1842\n",
      "[630]\ttraining's l2: 29.0532\tvalid_1's l2: 29.1325\n",
      "[640]\ttraining's l2: 29.0156\tvalid_1's l2: 29.0983\n",
      "[650]\ttraining's l2: 28.9701\tvalid_1's l2: 29.0568\n",
      "[660]\ttraining's l2: 28.9196\tvalid_1's l2: 29.0073\n",
      "[670]\ttraining's l2: 28.8812\tvalid_1's l2: 28.9716\n",
      "[680]\ttraining's l2: 28.8523\tvalid_1's l2: 28.9452\n",
      "[690]\ttraining's l2: 28.7967\tvalid_1's l2: 28.8943\n",
      "[700]\ttraining's l2: 28.7561\tvalid_1's l2: 28.8556\n",
      "[710]\ttraining's l2: 28.726\tvalid_1's l2: 28.8257\n",
      "[720]\ttraining's l2: 28.6964\tvalid_1's l2: 28.7975\n",
      "[730]\ttraining's l2: 28.6762\tvalid_1's l2: 28.7804\n",
      "[740]\ttraining's l2: 28.6468\tvalid_1's l2: 28.7529\n",
      "[750]\ttraining's l2: 28.6204\tvalid_1's l2: 28.7291\n",
      "[760]\ttraining's l2: 28.5941\tvalid_1's l2: 28.7064\n",
      "[770]\ttraining's l2: 28.5605\tvalid_1's l2: 28.674\n",
      "[780]\ttraining's l2: 28.5283\tvalid_1's l2: 28.6434\n",
      "[790]\ttraining's l2: 28.4896\tvalid_1's l2: 28.6073\n",
      "[800]\ttraining's l2: 28.4635\tvalid_1's l2: 28.583\n",
      "[810]\ttraining's l2: 28.433\tvalid_1's l2: 28.5553\n",
      "[820]\ttraining's l2: 28.3794\tvalid_1's l2: 28.5072\n",
      "[830]\ttraining's l2: 28.3588\tvalid_1's l2: 28.4867\n",
      "[840]\ttraining's l2: 28.3366\tvalid_1's l2: 28.4673\n",
      "[850]\ttraining's l2: 28.3046\tvalid_1's l2: 28.4396\n",
      "[860]\ttraining's l2: 28.2814\tvalid_1's l2: 28.4201\n",
      "[870]\ttraining's l2: 28.2543\tvalid_1's l2: 28.3943\n",
      "[880]\ttraining's l2: 28.2277\tvalid_1's l2: 28.3708\n",
      "[890]\ttraining's l2: 28.1992\tvalid_1's l2: 28.3448\n",
      "[900]\ttraining's l2: 28.1677\tvalid_1's l2: 28.3133\n",
      "[910]\ttraining's l2: 28.1425\tvalid_1's l2: 28.2909\n",
      "[920]\ttraining's l2: 28.1032\tvalid_1's l2: 28.2538\n",
      "[930]\ttraining's l2: 28.0867\tvalid_1's l2: 28.2389\n",
      "[940]\ttraining's l2: 28.0676\tvalid_1's l2: 28.2246\n",
      "[950]\ttraining's l2: 28.0515\tvalid_1's l2: 28.2112\n",
      "[960]\ttraining's l2: 28.0321\tvalid_1's l2: 28.1942\n",
      "[970]\ttraining's l2: 28.0142\tvalid_1's l2: 28.1799\n",
      "[980]\ttraining's l2: 27.9881\tvalid_1's l2: 28.1552\n",
      "[990]\ttraining's l2: 27.9523\tvalid_1's l2: 28.1217\n",
      "[1000]\ttraining's l2: 27.9339\tvalid_1's l2: 28.104\n",
      "[1010]\ttraining's l2: 27.9185\tvalid_1's l2: 28.0913\n",
      "[1020]\ttraining's l2: 27.892\tvalid_1's l2: 28.0665\n",
      "[1030]\ttraining's l2: 27.8701\tvalid_1's l2: 28.0457\n",
      "[1040]\ttraining's l2: 27.8534\tvalid_1's l2: 28.0337\n",
      "[1050]\ttraining's l2: 27.8263\tvalid_1's l2: 28.0084\n",
      "[1060]\ttraining's l2: 27.8035\tvalid_1's l2: 27.9884\n",
      "[1070]\ttraining's l2: 27.7872\tvalid_1's l2: 27.9737\n",
      "[1080]\ttraining's l2: 27.7701\tvalid_1's l2: 27.9594\n",
      "[1090]\ttraining's l2: 27.7477\tvalid_1's l2: 27.9397\n",
      "[1100]\ttraining's l2: 27.7286\tvalid_1's l2: 27.9242\n",
      "[1110]\ttraining's l2: 27.7051\tvalid_1's l2: 27.9037\n",
      "[1120]\ttraining's l2: 27.6758\tvalid_1's l2: 27.8753\n",
      "[1130]\ttraining's l2: 27.6544\tvalid_1's l2: 27.8578\n",
      "[1140]\ttraining's l2: 27.6335\tvalid_1's l2: 27.8417\n",
      "[1150]\ttraining's l2: 27.6147\tvalid_1's l2: 27.8243\n",
      "[1160]\ttraining's l2: 27.5962\tvalid_1's l2: 27.8102\n",
      "[1170]\ttraining's l2: 27.5789\tvalid_1's l2: 27.7968\n",
      "[1180]\ttraining's l2: 27.5678\tvalid_1's l2: 27.7906\n",
      "[1190]\ttraining's l2: 27.5522\tvalid_1's l2: 27.7795\n",
      "[1200]\ttraining's l2: 27.539\tvalid_1's l2: 27.7699\n",
      "[1210]\ttraining's l2: 27.5261\tvalid_1's l2: 27.7606\n",
      "[1220]\ttraining's l2: 27.5063\tvalid_1's l2: 27.7441\n",
      "[1230]\ttraining's l2: 27.4959\tvalid_1's l2: 27.7399\n",
      "[1240]\ttraining's l2: 27.4749\tvalid_1's l2: 27.7241\n",
      "[1250]\ttraining's l2: 27.467\tvalid_1's l2: 27.7192\n",
      "[1260]\ttraining's l2: 27.4556\tvalid_1's l2: 27.7135\n",
      "[1270]\ttraining's l2: 27.441\tvalid_1's l2: 27.6999\n",
      "[1280]\ttraining's l2: 27.4314\tvalid_1's l2: 27.697\n",
      "[1290]\ttraining's l2: 27.4138\tvalid_1's l2: 27.685\n",
      "[1300]\ttraining's l2: 27.401\tvalid_1's l2: 27.6734\n",
      "[1310]\ttraining's l2: 27.3889\tvalid_1's l2: 27.6657\n",
      "[1320]\ttraining's l2: 27.3601\tvalid_1's l2: 27.6419\n",
      "[1330]\ttraining's l2: 27.3481\tvalid_1's l2: 27.6329\n",
      "[1340]\ttraining's l2: 27.3393\tvalid_1's l2: 27.6273\n",
      "[1350]\ttraining's l2: 27.313\tvalid_1's l2: 27.6034\n",
      "[1360]\ttraining's l2: 27.304\tvalid_1's l2: 27.5969\n",
      "[1370]\ttraining's l2: 27.2949\tvalid_1's l2: 27.5928\n",
      "[1380]\ttraining's l2: 27.2771\tvalid_1's l2: 27.5763\n",
      "[1390]\ttraining's l2: 27.254\tvalid_1's l2: 27.5546\n",
      "[1400]\ttraining's l2: 27.2386\tvalid_1's l2: 27.5413\n",
      "[1410]\ttraining's l2: 27.2217\tvalid_1's l2: 27.527\n",
      "[1420]\ttraining's l2: 27.2082\tvalid_1's l2: 27.5145\n",
      "[1430]\ttraining's l2: 27.1959\tvalid_1's l2: 27.5043\n",
      "[1440]\ttraining's l2: 27.1839\tvalid_1's l2: 27.4959\n",
      "[1450]\ttraining's l2: 27.1691\tvalid_1's l2: 27.4817\n",
      "[1460]\ttraining's l2: 27.1591\tvalid_1's l2: 27.4742\n",
      "[1470]\ttraining's l2: 27.1493\tvalid_1's l2: 27.4687\n",
      "[1480]\ttraining's l2: 27.1352\tvalid_1's l2: 27.4556\n",
      "[1490]\ttraining's l2: 27.1247\tvalid_1's l2: 27.4488\n",
      "[1500]\ttraining's l2: 27.1042\tvalid_1's l2: 27.4301\n",
      "[1510]\ttraining's l2: 27.0987\tvalid_1's l2: 27.4271\n",
      "[1520]\ttraining's l2: 27.0891\tvalid_1's l2: 27.424\n",
      "[1530]\ttraining's l2: 27.0763\tvalid_1's l2: 27.4185\n",
      "[1540]\ttraining's l2: 27.0607\tvalid_1's l2: 27.4039\n",
      "[1550]\ttraining's l2: 27.0483\tvalid_1's l2: 27.3967\n",
      "[1560]\ttraining's l2: 27.0276\tvalid_1's l2: 27.3782\n",
      "[1570]\ttraining's l2: 27.0168\tvalid_1's l2: 27.3687\n",
      "[1580]\ttraining's l2: 27.0022\tvalid_1's l2: 27.3565\n",
      "[1590]\ttraining's l2: 26.9873\tvalid_1's l2: 27.3435\n",
      "[1600]\ttraining's l2: 26.976\tvalid_1's l2: 27.3335\n",
      "[1610]\ttraining's l2: 26.968\tvalid_1's l2: 27.3294\n",
      "[1620]\ttraining's l2: 26.9558\tvalid_1's l2: 27.3206\n",
      "[1630]\ttraining's l2: 26.9391\tvalid_1's l2: 27.3072\n",
      "[1640]\ttraining's l2: 26.9297\tvalid_1's l2: 27.3011\n",
      "[1650]\ttraining's l2: 26.918\tvalid_1's l2: 27.2909\n",
      "[1660]\ttraining's l2: 26.905\tvalid_1's l2: 27.2834\n",
      "[1670]\ttraining's l2: 26.8854\tvalid_1's l2: 27.2668\n",
      "[1680]\ttraining's l2: 26.8762\tvalid_1's l2: 27.2621\n",
      "[1690]\ttraining's l2: 26.8636\tvalid_1's l2: 27.2517\n",
      "[1700]\ttraining's l2: 26.8558\tvalid_1's l2: 27.247\n",
      "[1710]\ttraining's l2: 26.8455\tvalid_1's l2: 27.2379\n",
      "[1720]\ttraining's l2: 26.8357\tvalid_1's l2: 27.2312\n",
      "[1730]\ttraining's l2: 26.8235\tvalid_1's l2: 27.2224\n",
      "[1740]\ttraining's l2: 26.8159\tvalid_1's l2: 27.2168\n",
      "[1750]\ttraining's l2: 26.7877\tvalid_1's l2: 27.1914\n",
      "[1760]\ttraining's l2: 26.7797\tvalid_1's l2: 27.1862\n",
      "[1770]\ttraining's l2: 26.7685\tvalid_1's l2: 27.177\n",
      "[1780]\ttraining's l2: 26.7577\tvalid_1's l2: 27.1675\n",
      "[1790]\ttraining's l2: 26.7518\tvalid_1's l2: 27.1636\n",
      "[1800]\ttraining's l2: 26.7423\tvalid_1's l2: 27.1573\n",
      "[1810]\ttraining's l2: 26.7287\tvalid_1's l2: 27.1507\n",
      "[1820]\ttraining's l2: 26.713\tvalid_1's l2: 27.1373\n",
      "[1830]\ttraining's l2: 26.7025\tvalid_1's l2: 27.1301\n",
      "[1840]\ttraining's l2: 26.6921\tvalid_1's l2: 27.1227\n",
      "[1850]\ttraining's l2: 26.6832\tvalid_1's l2: 27.1152\n",
      "[1860]\ttraining's l2: 26.6676\tvalid_1's l2: 27.1027\n",
      "[1870]\ttraining's l2: 26.6631\tvalid_1's l2: 27.1007\n",
      "[1880]\ttraining's l2: 26.6523\tvalid_1's l2: 27.0926\n",
      "[1890]\ttraining's l2: 26.6462\tvalid_1's l2: 27.0909\n",
      "[1900]\ttraining's l2: 26.6369\tvalid_1's l2: 27.0838\n",
      "[1910]\ttraining's l2: 26.62\tvalid_1's l2: 27.069\n",
      "[1920]\ttraining's l2: 26.611\tvalid_1's l2: 27.0625\n",
      "[1930]\ttraining's l2: 26.5959\tvalid_1's l2: 27.0488\n",
      "[1940]\ttraining's l2: 26.5853\tvalid_1's l2: 27.0435\n",
      "[1950]\ttraining's l2: 26.5744\tvalid_1's l2: 27.036\n",
      "[1960]\ttraining's l2: 26.561\tvalid_1's l2: 27.0246\n",
      "[1970]\ttraining's l2: 26.5492\tvalid_1's l2: 27.0158\n",
      "[1980]\ttraining's l2: 26.5448\tvalid_1's l2: 27.0134\n",
      "[1990]\ttraining's l2: 26.5363\tvalid_1's l2: 27.0081\n",
      "[2000]\ttraining's l2: 26.5229\tvalid_1's l2: 26.9977\n",
      "Did not meet early stopping. Best iteration is:\n",
      "[2000]\ttraining's l2: 26.5229\tvalid_1's l2: 26.9977\n",
      "回歸模型評估指標結果:\n",
      "均方誤差【MSE】: 26.997723362052344\n",
      "均方根誤差【RMSE】: 5.1959333484998\n",
      "平均絕對誤差【MAE】: 2.950414988890111\n",
      "絕對誤差中位數【MedianAE】: 1.706860836737816\n",
      "平均絕對百分比誤差【MAPE】: 968785411167787.8\n",
      "絕對百分比誤差中位數【MedianAPE】: 0.4742454650471829\n"
     ]
    },
    {
     "name": "stderr",
     "output_type": "stream",
     "text": [
      "C:\\Users\\j8003\\AppData\\Local\\Temp\\ipykernel_3536\\17971333.py:4: RuntimeWarning: divide by zero encountered in true_divide\n",
      "  return np.median(np.abs((y_pred-y_true)/y_true))\n"
     ]
    }
   ],
   "source": [
    "# 訓練 train\n",
    "m1 = LGB.train(params,lgb_train,num_boost_round=2000,\n",
    "               valid_sets=[lgb_train,lgb_eval],callbacks=callback)\n",
    "y_pred = m1.predict(X_test, num_iteration=m1.best_iteration)  # 如果在訓練期間啓用了早期停止，可以通過best_iteration方式從最佳迭代中獲得預測\n",
    "# 評估模型\n",
    "print('The rmse of prediction is:',\n",
    "      mean_squared_error(y_test, y_pred)**0.5)  # 計算真實值和預測值之間的均方根誤差\n"
   ]
  },
  {
   "cell_type": "code",
   "execution_count": null,
   "metadata": {},
   "outputs": [
    {
     "name": "stdout",
     "output_type": "stream",
     "text": [
      "2022-09-09 21:54:04 開始目標函數與評估函數評估\n"
     ]
    },
    {
     "name": "stderr",
     "output_type": "stream",
     "text": [
      "C:\\Users\\j8003\\AppData\\Local\\Temp\\ipykernel_3536\\17971333.py:4: RuntimeWarning: divide by zero encountered in true_divide\n",
      "  return np.median(np.abs((y_pred-y_true)/y_true))\n"
     ]
    },
    {
     "name": "stdout",
     "output_type": "stream",
     "text": [
      "2022-09-09 21:54:05 regression_l2 + l2  完成评估  best iteration is: 255\n"
     ]
    },
    {
     "name": "stderr",
     "output_type": "stream",
     "text": [
      "C:\\Users\\j8003\\AppData\\Local\\Temp\\ipykernel_3536\\17971333.py:4: RuntimeWarning: divide by zero encountered in true_divide\n",
      "  return np.median(np.abs((y_pred-y_true)/y_true))\n"
     ]
    },
    {
     "name": "stdout",
     "output_type": "stream",
     "text": [
      "2022-09-09 21:54:07 regression_l2 + mae  完成评估  best iteration is: 433\n"
     ]
    },
    {
     "name": "stderr",
     "output_type": "stream",
     "text": [
      "C:\\Users\\j8003\\AppData\\Local\\Temp\\ipykernel_3536\\17971333.py:4: RuntimeWarning: divide by zero encountered in true_divide\n",
      "  return np.median(np.abs((y_pred-y_true)/y_true))\n"
     ]
    },
    {
     "name": "stdout",
     "output_type": "stream",
     "text": [
      "2022-09-09 21:54:07 regression_l2 + quantile  完成评估  best iteration is: 105\n"
     ]
    },
    {
     "name": "stderr",
     "output_type": "stream",
     "text": [
      "C:\\Users\\j8003\\AppData\\Local\\Temp\\ipykernel_3536\\17971333.py:4: RuntimeWarning: divide by zero encountered in true_divide\n",
      "  return np.median(np.abs((y_pred-y_true)/y_true))\n"
     ]
    },
    {
     "name": "stdout",
     "output_type": "stream",
     "text": [
      "2022-09-09 21:54:08 regression_l2 + poisson  完成评估  best iteration is: 38\n"
     ]
    },
    {
     "name": "stderr",
     "output_type": "stream",
     "text": [
      "C:\\Users\\j8003\\AppData\\Local\\Temp\\ipykernel_3536\\17971333.py:4: RuntimeWarning: divide by zero encountered in true_divide\n",
      "  return np.median(np.abs((y_pred-y_true)/y_true))\n"
     ]
    },
    {
     "name": "stdout",
     "output_type": "stream",
     "text": [
      "2022-09-09 21:54:09 regression_l2 + mape  完成评估  best iteration is: 175\n"
     ]
    },
    {
     "name": "stderr",
     "output_type": "stream",
     "text": [
      "C:\\Users\\j8003\\AppData\\Local\\Temp\\ipykernel_3536\\17971333.py:4: RuntimeWarning: divide by zero encountered in true_divide\n",
      "  return np.median(np.abs((y_pred-y_true)/y_true))\n"
     ]
    },
    {
     "name": "stdout",
     "output_type": "stream",
     "text": [
      "2022-09-09 21:54:11 regression_l1 + l2  完成评估  best iteration is: 630\n"
     ]
    },
    {
     "name": "stderr",
     "output_type": "stream",
     "text": [
      "C:\\Users\\j8003\\AppData\\Local\\Temp\\ipykernel_3536\\17971333.py:4: RuntimeWarning: divide by zero encountered in true_divide\n",
      "  return np.median(np.abs((y_pred-y_true)/y_true))\n"
     ]
    },
    {
     "name": "stdout",
     "output_type": "stream",
     "text": [
      "2022-09-09 21:54:14 regression_l1 + mae  完成评估  best iteration is: 665\n"
     ]
    },
    {
     "name": "stderr",
     "output_type": "stream",
     "text": [
      "C:\\Users\\j8003\\AppData\\Local\\Temp\\ipykernel_3536\\17971333.py:4: RuntimeWarning: divide by zero encountered in true_divide\n",
      "  return np.median(np.abs((y_pred-y_true)/y_true))\n"
     ]
    },
    {
     "name": "stdout",
     "output_type": "stream",
     "text": [
      "2022-09-09 21:54:15 regression_l1 + quantile  完成评估  best iteration is: 155\n"
     ]
    },
    {
     "name": "stderr",
     "output_type": "stream",
     "text": [
      "C:\\Users\\j8003\\AppData\\Local\\Temp\\ipykernel_3536\\17971333.py:4: RuntimeWarning: divide by zero encountered in true_divide\n",
      "  return np.median(np.abs((y_pred-y_true)/y_true))\n"
     ]
    },
    {
     "name": "stdout",
     "output_type": "stream",
     "text": [
      "2022-09-09 21:54:15 regression_l1 + poisson  完成评估  best iteration is: 67\n"
     ]
    },
    {
     "name": "stderr",
     "output_type": "stream",
     "text": [
      "C:\\Users\\j8003\\AppData\\Local\\Temp\\ipykernel_3536\\17971333.py:4: RuntimeWarning: divide by zero encountered in true_divide\n",
      "  return np.median(np.abs((y_pred-y_true)/y_true))\n"
     ]
    },
    {
     "name": "stdout",
     "output_type": "stream",
     "text": [
      "2022-09-09 21:54:16 regression_l1 + mape  完成评估  best iteration is: 141\n"
     ]
    },
    {
     "name": "stderr",
     "output_type": "stream",
     "text": [
      "C:\\Users\\j8003\\AppData\\Local\\Temp\\ipykernel_3536\\17971333.py:4: RuntimeWarning: divide by zero encountered in true_divide\n",
      "  return np.median(np.abs((y_pred-y_true)/y_true))\n"
     ]
    },
    {
     "name": "stdout",
     "output_type": "stream",
     "text": [
      "2022-09-09 21:54:17 quantile + l2  完成评估  best iteration is: 210\n"
     ]
    },
    {
     "name": "stderr",
     "output_type": "stream",
     "text": [
      "C:\\Users\\j8003\\AppData\\Local\\Temp\\ipykernel_3536\\17971333.py:4: RuntimeWarning: divide by zero encountered in true_divide\n",
      "  return np.median(np.abs((y_pred-y_true)/y_true))\n"
     ]
    },
    {
     "name": "stdout",
     "output_type": "stream",
     "text": [
      "2022-09-09 21:54:19 quantile + mae  完成评估  best iteration is: 301\n"
     ]
    },
    {
     "name": "stderr",
     "output_type": "stream",
     "text": [
      "C:\\Users\\j8003\\AppData\\Local\\Temp\\ipykernel_3536\\17971333.py:4: RuntimeWarning: divide by zero encountered in true_divide\n",
      "  return np.median(np.abs((y_pred-y_true)/y_true))\n"
     ]
    },
    {
     "name": "stdout",
     "output_type": "stream",
     "text": [
      "2022-09-09 21:54:21 quantile + quantile  完成评估  best iteration is: 338\n"
     ]
    },
    {
     "name": "stderr",
     "output_type": "stream",
     "text": [
      "C:\\Users\\j8003\\AppData\\Local\\Temp\\ipykernel_3536\\17971333.py:4: RuntimeWarning: divide by zero encountered in true_divide\n",
      "  return np.median(np.abs((y_pred-y_true)/y_true))\n"
     ]
    },
    {
     "name": "stdout",
     "output_type": "stream",
     "text": [
      "2022-09-09 21:54:22 quantile + poisson  完成评估  best iteration is: 301\n"
     ]
    },
    {
     "name": "stderr",
     "output_type": "stream",
     "text": [
      "C:\\Users\\j8003\\AppData\\Local\\Temp\\ipykernel_3536\\17971333.py:4: RuntimeWarning: divide by zero encountered in true_divide\n",
      "  return np.median(np.abs((y_pred-y_true)/y_true))\n"
     ]
    },
    {
     "name": "stdout",
     "output_type": "stream",
     "text": [
      "2022-09-09 21:54:24 quantile + mape  完成评估  best iteration is: 325\n"
     ]
    },
    {
     "name": "stderr",
     "output_type": "stream",
     "text": [
      "C:\\Users\\j8003\\AppData\\Local\\Temp\\ipykernel_3536\\17971333.py:4: RuntimeWarning: divide by zero encountered in true_divide\n",
      "  return np.median(np.abs((y_pred-y_true)/y_true))\n"
     ]
    },
    {
     "name": "stdout",
     "output_type": "stream",
     "text": [
      "2022-09-09 21:54:26 poisson + l2  完成评估  best iteration is: 505\n"
     ]
    },
    {
     "name": "stderr",
     "output_type": "stream",
     "text": [
      "C:\\Users\\j8003\\AppData\\Local\\Temp\\ipykernel_3536\\17971333.py:4: RuntimeWarning: divide by zero encountered in true_divide\n",
      "  return np.median(np.abs((y_pred-y_true)/y_true))\n"
     ]
    },
    {
     "name": "stdout",
     "output_type": "stream",
     "text": [
      "2022-09-09 21:54:28 poisson + mae  完成评估  best iteration is: 440\n"
     ]
    },
    {
     "name": "stderr",
     "output_type": "stream",
     "text": [
      "C:\\Users\\j8003\\AppData\\Local\\Temp\\ipykernel_3536\\17971333.py:4: RuntimeWarning: divide by zero encountered in true_divide\n",
      "  return np.median(np.abs((y_pred-y_true)/y_true))\n"
     ]
    },
    {
     "name": "stdout",
     "output_type": "stream",
     "text": [
      "2022-09-09 21:54:29 poisson + quantile  完成评估  best iteration is: 256\n"
     ]
    },
    {
     "name": "stderr",
     "output_type": "stream",
     "text": [
      "C:\\Users\\j8003\\AppData\\Local\\Temp\\ipykernel_3536\\17971333.py:4: RuntimeWarning: divide by zero encountered in true_divide\n",
      "  return np.median(np.abs((y_pred-y_true)/y_true))\n"
     ]
    },
    {
     "name": "stdout",
     "output_type": "stream",
     "text": [
      "2022-09-09 21:54:32 poisson + poisson  完成评估  best iteration is: 480\n"
     ]
    },
    {
     "name": "stderr",
     "output_type": "stream",
     "text": [
      "C:\\Users\\j8003\\AppData\\Local\\Temp\\ipykernel_3536\\17971333.py:4: RuntimeWarning: divide by zero encountered in true_divide\n",
      "  return np.median(np.abs((y_pred-y_true)/y_true))\n"
     ]
    },
    {
     "name": "stdout",
     "output_type": "stream",
     "text": [
      "2022-09-09 21:54:34 poisson + mape  完成评估  best iteration is: 730\n"
     ]
    },
    {
     "name": "stderr",
     "output_type": "stream",
     "text": [
      "C:\\Users\\j8003\\AppData\\Local\\Temp\\ipykernel_3536\\17971333.py:4: RuntimeWarning: divide by zero encountered in true_divide\n",
      "  return np.median(np.abs((y_pred-y_true)/y_true))\n"
     ]
    },
    {
     "name": "stdout",
     "output_type": "stream",
     "text": [
      "2022-09-09 21:54:38 mape + l2  完成评估  best iteration is: 196\n"
     ]
    },
    {
     "name": "stderr",
     "output_type": "stream",
     "text": [
      "C:\\Users\\j8003\\AppData\\Local\\Temp\\ipykernel_3536\\17971333.py:4: RuntimeWarning: divide by zero encountered in true_divide\n",
      "  return np.median(np.abs((y_pred-y_true)/y_true))\n"
     ]
    },
    {
     "name": "stdout",
     "output_type": "stream",
     "text": [
      "2022-09-09 21:54:42 mape + mae  完成评估  best iteration is: 196\n"
     ]
    },
    {
     "name": "stderr",
     "output_type": "stream",
     "text": [
      "C:\\Users\\j8003\\AppData\\Local\\Temp\\ipykernel_3536\\17971333.py:4: RuntimeWarning: divide by zero encountered in true_divide\n",
      "  return np.median(np.abs((y_pred-y_true)/y_true))\n"
     ]
    },
    {
     "name": "stdout",
     "output_type": "stream",
     "text": [
      "2022-09-09 21:54:44 mape + quantile  完成评估  best iteration is: 102\n"
     ]
    },
    {
     "name": "stderr",
     "output_type": "stream",
     "text": [
      "C:\\Users\\j8003\\AppData\\Local\\Temp\\ipykernel_3536\\17971333.py:4: RuntimeWarning: divide by zero encountered in true_divide\n",
      "  return np.median(np.abs((y_pred-y_true)/y_true))\n"
     ]
    },
    {
     "name": "stdout",
     "output_type": "stream",
     "text": [
      "2022-09-09 21:54:47 mape + poisson  完成评估  best iteration is: 166\n",
      "2022-09-09 21:54:53 mape + mape  完成评估  best iteration is: 329\n"
     ]
    },
    {
     "name": "stderr",
     "output_type": "stream",
     "text": [
      "C:\\Users\\j8003\\AppData\\Local\\Temp\\ipykernel_3536\\17971333.py:4: RuntimeWarning: divide by zero encountered in true_divide\n",
      "  return np.median(np.abs((y_pred-y_true)/y_true))\n"
     ]
    },
    {
     "data": {
      "text/html": [
       "<div>\n",
       "<style scoped>\n",
       "    .dataframe tbody tr th:only-of-type {\n",
       "        vertical-align: middle;\n",
       "    }\n",
       "\n",
       "    .dataframe tbody tr th {\n",
       "        vertical-align: top;\n",
       "    }\n",
       "\n",
       "    .dataframe thead th {\n",
       "        text-align: right;\n",
       "    }\n",
       "</style>\n",
       "<table border=\"1\" class=\"dataframe\">\n",
       "  <thead>\n",
       "    <tr style=\"text-align: right;\">\n",
       "      <th></th>\n",
       "      <th>objective</th>\n",
       "      <th>metric</th>\n",
       "      <th>MAPE</th>\n",
       "      <th>Median APE</th>\n",
       "      <th>MAE</th>\n",
       "    </tr>\n",
       "  </thead>\n",
       "  <tbody>\n",
       "    <tr>\n",
       "      <th>0</th>\n",
       "      <td>regression_l2</td>\n",
       "      <td>l2</td>\n",
       "      <td>5.191826e+14</td>\n",
       "      <td>0.348009</td>\n",
       "      <td>3.998285</td>\n",
       "    </tr>\n",
       "    <tr>\n",
       "      <th>5</th>\n",
       "      <td>regression_l2</td>\n",
       "      <td>mae</td>\n",
       "      <td>5.056246e+14</td>\n",
       "      <td>0.347896</td>\n",
       "      <td>3.967138</td>\n",
       "    </tr>\n",
       "    <tr>\n",
       "      <th>10</th>\n",
       "      <td>regression_l2</td>\n",
       "      <td>quantile</td>\n",
       "      <td>5.422502e+14</td>\n",
       "      <td>0.352242</td>\n",
       "      <td>4.043015</td>\n",
       "    </tr>\n",
       "    <tr>\n",
       "      <th>15</th>\n",
       "      <td>regression_l2</td>\n",
       "      <td>poisson</td>\n",
       "      <td>6.473402e+14</td>\n",
       "      <td>0.359287</td>\n",
       "      <td>4.163478</td>\n",
       "    </tr>\n",
       "    <tr>\n",
       "      <th>20</th>\n",
       "      <td>regression_l2</td>\n",
       "      <td>mape</td>\n",
       "      <td>5.247070e+14</td>\n",
       "      <td>0.348594</td>\n",
       "      <td>4.015231</td>\n",
       "    </tr>\n",
       "    <tr>\n",
       "      <th>25</th>\n",
       "      <td>regression_l1</td>\n",
       "      <td>l2</td>\n",
       "      <td>4.363330e+14</td>\n",
       "      <td>0.346794</td>\n",
       "      <td>3.951885</td>\n",
       "    </tr>\n",
       "    <tr>\n",
       "      <th>30</th>\n",
       "      <td>regression_l1</td>\n",
       "      <td>mae</td>\n",
       "      <td>4.361113e+14</td>\n",
       "      <td>0.346617</td>\n",
       "      <td>3.949242</td>\n",
       "    </tr>\n",
       "    <tr>\n",
       "      <th>35</th>\n",
       "      <td>regression_l1</td>\n",
       "      <td>quantile</td>\n",
       "      <td>4.486933e+14</td>\n",
       "      <td>0.351195</td>\n",
       "      <td>4.003731</td>\n",
       "    </tr>\n",
       "    <tr>\n",
       "      <th>40</th>\n",
       "      <td>regression_l1</td>\n",
       "      <td>poisson</td>\n",
       "      <td>4.672982e+14</td>\n",
       "      <td>0.355482</td>\n",
       "      <td>4.064111</td>\n",
       "    </tr>\n",
       "    <tr>\n",
       "      <th>45</th>\n",
       "      <td>regression_l1</td>\n",
       "      <td>mape</td>\n",
       "      <td>4.491210e+14</td>\n",
       "      <td>0.351295</td>\n",
       "      <td>4.006639</td>\n",
       "    </tr>\n",
       "    <tr>\n",
       "      <th>50</th>\n",
       "      <td>quantile</td>\n",
       "      <td>l2</td>\n",
       "      <td>1.065836e+15</td>\n",
       "      <td>0.781189</td>\n",
       "      <td>7.183391</td>\n",
       "    </tr>\n",
       "    <tr>\n",
       "      <th>55</th>\n",
       "      <td>quantile</td>\n",
       "      <td>mae</td>\n",
       "      <td>1.052138e+15</td>\n",
       "      <td>0.772455</td>\n",
       "      <td>7.144809</td>\n",
       "    </tr>\n",
       "    <tr>\n",
       "      <th>60</th>\n",
       "      <td>quantile</td>\n",
       "      <td>quantile</td>\n",
       "      <td>1.047797e+15</td>\n",
       "      <td>0.766150</td>\n",
       "      <td>7.134149</td>\n",
       "    </tr>\n",
       "    <tr>\n",
       "      <th>65</th>\n",
       "      <td>quantile</td>\n",
       "      <td>poisson</td>\n",
       "      <td>1.052138e+15</td>\n",
       "      <td>0.772455</td>\n",
       "      <td>7.144809</td>\n",
       "    </tr>\n",
       "    <tr>\n",
       "      <th>70</th>\n",
       "      <td>quantile</td>\n",
       "      <td>mape</td>\n",
       "      <td>1.048250e+15</td>\n",
       "      <td>0.768307</td>\n",
       "      <td>7.137423</td>\n",
       "    </tr>\n",
       "    <tr>\n",
       "      <th>75</th>\n",
       "      <td>poisson</td>\n",
       "      <td>l2</td>\n",
       "      <td>5.275670e+14</td>\n",
       "      <td>0.343524</td>\n",
       "      <td>3.963901</td>\n",
       "    </tr>\n",
       "    <tr>\n",
       "      <th>80</th>\n",
       "      <td>poisson</td>\n",
       "      <td>mae</td>\n",
       "      <td>5.292609e+14</td>\n",
       "      <td>0.343929</td>\n",
       "      <td>3.968645</td>\n",
       "    </tr>\n",
       "    <tr>\n",
       "      <th>85</th>\n",
       "      <td>poisson</td>\n",
       "      <td>quantile</td>\n",
       "      <td>5.454120e+14</td>\n",
       "      <td>0.345412</td>\n",
       "      <td>4.005183</td>\n",
       "    </tr>\n",
       "    <tr>\n",
       "      <th>90</th>\n",
       "      <td>poisson</td>\n",
       "      <td>poisson</td>\n",
       "      <td>5.288218e+14</td>\n",
       "      <td>0.343851</td>\n",
       "      <td>3.965739</td>\n",
       "    </tr>\n",
       "    <tr>\n",
       "      <th>95</th>\n",
       "      <td>poisson</td>\n",
       "      <td>mape</td>\n",
       "      <td>5.165716e+14</td>\n",
       "      <td>0.341627</td>\n",
       "      <td>3.943116</td>\n",
       "    </tr>\n",
       "    <tr>\n",
       "      <th>100</th>\n",
       "      <td>mape</td>\n",
       "      <td>l2</td>\n",
       "      <td>2.538083e+14</td>\n",
       "      <td>0.531537</td>\n",
       "      <td>6.072493</td>\n",
       "    </tr>\n",
       "    <tr>\n",
       "      <th>105</th>\n",
       "      <td>mape</td>\n",
       "      <td>mae</td>\n",
       "      <td>2.538083e+14</td>\n",
       "      <td>0.531537</td>\n",
       "      <td>6.072493</td>\n",
       "    </tr>\n",
       "    <tr>\n",
       "      <th>110</th>\n",
       "      <td>mape</td>\n",
       "      <td>quantile</td>\n",
       "      <td>2.580608e+14</td>\n",
       "      <td>0.537361</td>\n",
       "      <td>6.177020</td>\n",
       "    </tr>\n",
       "    <tr>\n",
       "      <th>115</th>\n",
       "      <td>mape</td>\n",
       "      <td>poisson</td>\n",
       "      <td>2.551486e+14</td>\n",
       "      <td>0.532670</td>\n",
       "      <td>6.097113</td>\n",
       "    </tr>\n",
       "    <tr>\n",
       "      <th>120</th>\n",
       "      <td>mape</td>\n",
       "      <td>mape</td>\n",
       "      <td>2.522918e+14</td>\n",
       "      <td>0.520359</td>\n",
       "      <td>5.925903</td>\n",
       "    </tr>\n",
       "  </tbody>\n",
       "</table>\n",
       "</div>"
      ],
      "text/plain": [
       "         objective    metric          MAPE  Median APE       MAE\n",
       "0    regression_l2        l2  5.191826e+14    0.348009  3.998285\n",
       "5    regression_l2       mae  5.056246e+14    0.347896  3.967138\n",
       "10   regression_l2  quantile  5.422502e+14    0.352242  4.043015\n",
       "15   regression_l2   poisson  6.473402e+14    0.359287  4.163478\n",
       "20   regression_l2      mape  5.247070e+14    0.348594  4.015231\n",
       "25   regression_l1        l2  4.363330e+14    0.346794  3.951885\n",
       "30   regression_l1       mae  4.361113e+14    0.346617  3.949242\n",
       "35   regression_l1  quantile  4.486933e+14    0.351195  4.003731\n",
       "40   regression_l1   poisson  4.672982e+14    0.355482  4.064111\n",
       "45   regression_l1      mape  4.491210e+14    0.351295  4.006639\n",
       "50        quantile        l2  1.065836e+15    0.781189  7.183391\n",
       "55        quantile       mae  1.052138e+15    0.772455  7.144809\n",
       "60        quantile  quantile  1.047797e+15    0.766150  7.134149\n",
       "65        quantile   poisson  1.052138e+15    0.772455  7.144809\n",
       "70        quantile      mape  1.048250e+15    0.768307  7.137423\n",
       "75         poisson        l2  5.275670e+14    0.343524  3.963901\n",
       "80         poisson       mae  5.292609e+14    0.343929  3.968645\n",
       "85         poisson  quantile  5.454120e+14    0.345412  4.005183\n",
       "90         poisson   poisson  5.288218e+14    0.343851  3.965739\n",
       "95         poisson      mape  5.165716e+14    0.341627  3.943116\n",
       "100           mape        l2  2.538083e+14    0.531537  6.072493\n",
       "105           mape       mae  2.538083e+14    0.531537  6.072493\n",
       "110           mape  quantile  2.580608e+14    0.537361  6.177020\n",
       "115           mape   poisson  2.551486e+14    0.532670  6.097113\n",
       "120           mape      mape  2.522918e+14    0.520359  5.925903"
      ]
     },
     "execution_count": 27,
     "metadata": {},
     "output_type": "execute_result"
    }
   ],
   "source": [
    "import time\n",
    "objective=['regression_l2','regression_l1','quantile','poisson','mape']\n",
    "metrics=['l2','mae','quantile','poisson','mape']\n",
    "metrics_test_data=pd.DataFrame(columns=['objective','metric','MAPE','Median APE','MAE'])\n",
    "print(time.strftime(\"%Y-%m-%d %H:%M:%S\", time.localtime()),\n",
    "              '開始目標函數與評估函數評估')\n",
    "for i in objective:\n",
    "    for k in metrics:\n",
    "        size=metrics_test_data.size\n",
    "        params = {\n",
    "            'n_estimators': 100,\n",
    "            # 'task': 'train',\n",
    "            # 'boosting_type': 'gbdt',\n",
    "            # 'objective': i,\n",
    "            # 'metric':k,\n",
    "            # 'max_depth': 7,\n",
    "            'num_leaves': 10,\n",
    "            # 'learning_rate': 0.1,\n",
    "            # 'feature_fraction': 0.8,\n",
    "            # 'bagging_fraction': 0.8,\n",
    "            # 'bagging_freq': 5,\n",
    "            'verbose': -1,\n",
    "            'n_jobs': 7\n",
    "        }\n",
    "        callback=LGB.early_stopping(stopping_rounds=10,verbose=0)\n",
    "        gbm = LGB.train(params,lgb_train,num_boost_round=2000,\n",
    "                valid_sets=lgb_eval,callbacks=[callback])\n",
    "        y_pred = gbm.predict(X_test)\n",
    "        metrics_test_data.loc[size]=[i,k,mean_absolute_percentage_error(y_test,y_pred),\n",
    "                                     median_absolute_percentage_error(y_test,y_pred),\n",
    "                                     mean_absolute_error(y_test,y_pred)\n",
    "                                    ]\n",
    "        print(time.strftime(\"%Y-%m-%d %H:%M:%S\", time.localtime()),i,'+',k,' 完成评估',\n",
    "              ' best iteration is:',gbm.best_iteration)\n",
    "# metrics_test_data.to_csv('../result/m1_objective_metric_test.csv',encoding='gbk')\n",
    "metrics_test_data"
   ]
  },
  {
   "cell_type": "code",
   "execution_count": null,
   "metadata": {},
   "outputs": [],
   "source": [
    "#我們使用網格搜索進行調參，因sklearn中的GridSearchCV過程中的scoring未提供我們重點觀測的Median APE指標，所以需要自定義。\n",
    "from sklearn.metrics import make_scorer\n",
    "neg_median_absolute_percentage_error=make_scorer(median_absolute_percentage_error,greater_is_better=False)"
   ]
  },
  {
   "cell_type": "code",
   "execution_count": null,
   "metadata": {},
   "outputs": [
    {
     "name": "stdout",
     "output_type": "stream",
     "text": [
      "2022-09-09 21:56:56 開始樹深度和葉子结點數GridSearch\n",
      "Fitting 5 folds for each of 32 candidates, totalling 160 fits\n",
      "2022-09-09 21:57:46 完成樹深度和葉子结點數GridSearch\n",
      "Best parameters found by grid search are: {'max_depth': 9, 'num_leaves': 80}\n"
     ]
    }
   ],
   "source": [
    "#開始gridsearch\n",
    "print(time.strftime(\"%Y-%m-%d %H:%M:%S\", time.localtime()),'開始樹深度和葉子结點數GridSearch')\n",
    "model_lgb = LGB.LGBMRegressor(objective='quantile',\n",
    "                              metric='quantile',\n",
    "                              learning_rate=0.1,\n",
    "                              subsample = 0.8,\n",
    "                              colsample_bytree = 0.8,\n",
    "                              subsample_freq = 5)\n",
    "#調max_depth、num_leaves\n",
    "params_test={\n",
    "    'max_depth': range(7,11,1), \n",
    "    'num_leaves':range(10,90,10)  \n",
    "}\n",
    "gsearch1 = GridSearchCV(estimator=model_lgb,\n",
    "                        param_grid=params_test,\n",
    "                        scoring=neg_median_absolute_percentage_error,\n",
    "                        cv=5,\n",
    "                        verbose=1,\n",
    "                        n_jobs=-1)\n",
    "gsearch1.fit(X, y)\n",
    "print(time.strftime(\"%Y-%m-%d %H:%M:%S\", time.localtime()),'完成樹深度和葉子结點數GridSearch')\n",
    "print('Best parameters found by grid search are:', gsearch1.best_params_)"
   ]
  },
  {
   "cell_type": "code",
   "execution_count": null,
   "metadata": {},
   "outputs": [
    {
     "name": "stdout",
     "output_type": "stream",
     "text": [
      "Fitting 5 folds for each of 20 candidates, totalling 100 fits\n",
      "2022-09-09 22:11:05 完成葉子结點數GridSearch\n",
      "Best parameters found by grid search are: {'num_leaves': 49}\n"
     ]
    }
   ],
   "source": [
    "#参數在XX附近\n",
    "params_test={\n",
    "    'num_leaves':range(70,90,1)\n",
    "}\n",
    "gsearch1 = GridSearchCV(estimator=model_lgb,\n",
    "                        param_grid=params_test,\n",
    "                        scoring=neg_median_absolute_percentage_error,\n",
    "                        cv=5,\n",
    "                        verbose=1,\n",
    "                        n_jobs=-1)\n",
    "gsearch1.fit(X, y)\n",
    "print(time.strftime(\"%Y-%m-%d %H:%M:%S\", time.localtime()),'完成葉子结點數GridSearch')\n",
    "print('Best parameters found by grid search are:', gsearch1.best_params_)"
   ]
  },
  {
   "cell_type": "code",
   "execution_count": null,
   "metadata": {},
   "outputs": [
    {
     "name": "stdout",
     "output_type": "stream",
     "text": [
      "Fitting 5 folds for each of 14 candidates, totalling 70 fits\n",
      "2022-09-09 22:11:41 葉子結點最小數據數量與最小hessian，GridSearch\n",
      "Best parameters found by grid search are: {'min_child_samples': 25, 'min_child_weight': 0.001}\n"
     ]
    }
   ],
   "source": [
    "#調min_child_samples、min_child_weight 葉子結點最小數據數量與最小hessian\n",
    "params_test={\n",
    "    'min_child_samples':[19,20,21,22,23,24,25],\n",
    "    'min_child_weight':[0.001,0.002]\n",
    "}\n",
    "gsearch1 = GridSearchCV(estimator=model_lgb,\n",
    "                        param_grid=params_test,\n",
    "                        scoring=neg_median_absolute_percentage_error,\n",
    "                        cv=5,\n",
    "                        verbose=1,\n",
    "                        n_jobs=-1)\n",
    "gsearch1.fit(X, y)\n",
    "print(time.strftime(\"%Y-%m-%d %H:%M:%S\", time.localtime()),'葉子結點最小數據數量與最小hessian GridSearch')\n",
    "print('Best parameters found by grid search are:', gsearch1.best_params_)"
   ]
  },
  {
   "cell_type": "code",
   "execution_count": null,
   "metadata": {},
   "outputs": [
    {
     "name": "stdout",
     "output_type": "stream",
     "text": [
      "Fitting 5 folds for each of 9 candidates, totalling 45 fits\n",
      "2022-09-09 22:12:19 完成特徵與樣本的隨機採樣率，GridSearch\n",
      "Best parameters found by grid search are: {'colsample_bytree': 0.9, 'subsample': 0.9}\n"
     ]
    }
   ],
   "source": [
    "#特徵與樣本的隨機採樣率subsample、colsample_bytree\n",
    "params_test={\n",
    "    'subsample': [0.7,0.8,0.9],\n",
    "    'colsample_bytree': [0.7,0.8,0.9]  \n",
    "}\n",
    "gsearch1 = GridSearchCV(estimator=model_lgb,\n",
    "                        param_grid=params_test,\n",
    "                        scoring=neg_median_absolute_percentage_error,\n",
    "                        cv=5,\n",
    "                        verbose=1,\n",
    "                        n_jobs=-1)\n",
    "gsearch1.fit(X, y)\n",
    "print(time.strftime(\"%Y-%m-%d %H:%M:%S\", time.localtime()),'完成特徵與樣本的隨機採樣率 GridSearch')\n",
    "print('Best parameters found by grid search are:', gsearch1.best_params_)"
   ]
  },
  {
   "cell_type": "code",
   "execution_count": null,
   "metadata": {},
   "outputs": [],
   "source": []
  },
  {
   "cell_type": "code",
   "execution_count": null,
   "metadata": {},
   "outputs": [
    {
     "name": "stdout",
     "output_type": "stream",
     "text": [
      "Fitting 5 folds for each of 36 candidates, totalling 180 fits\n",
      "2022-09-09 22:13:40 完成正則化參數GridSearch\n",
      "Best parameters found by grid search are: {'reg_alpha': 0, 'reg_lambda': 0.03}\n"
     ]
    }
   ],
   "source": [
    "#正則化參數\n",
    "params_test={\n",
    "    'reg_alpha': [0, 0.001, 0.01, 0.03, 0.08, 0.3],\n",
    "    'reg_lambda': [0, 0.001, 0.01, 0.03, 0.08, 0.3]  \n",
    "}\n",
    "gsearch1 = GridSearchCV(estimator=model_lgb,\n",
    "                        param_grid=params_test,\n",
    "                        scoring=neg_median_absolute_percentage_error,\n",
    "                        cv=5,\n",
    "                        verbose=1,\n",
    "                        n_jobs=-1)\n",
    "gsearch1.fit(X, y)\n",
    "print(time.strftime(\"%Y-%m-%d %H:%M:%S\", time.localtime()),'完成正則化參數GridSearch')\n",
    "print('Best parameters found by grid search are:', gsearch1.best_params_)"
   ]
  },
  {
   "cell_type": "code",
   "execution_count": null,
   "metadata": {},
   "outputs": [],
   "source": [
    "import lightgbm as lgb\n",
    "model = lgb.LGBMClassifier(is_unbalance=True)\n",
    "model.fit(X_train,y_train)\n",
    "from sklearn.metrics import accuracy_score\n",
    "\n",
    "pred = model.predict(X_test)\n",
    "print(\"Accuracy:\", accuracy_score(y_test, pred))\n"
   ]
  }
 ],
 "metadata": {
  "kernelspec": {
   "display_name": "Python 3.8.13 ('ML_course')",
   "language": "python",
   "name": "python3"
  },
  "language_info": {
   "codemirror_mode": {
    "name": "ipython",
    "version": 3
   },
   "file_extension": ".py",
   "mimetype": "text/x-python",
   "name": "python",
   "nbconvert_exporter": "python",
   "pygments_lexer": "ipython3",
   "version": "3.8.13"
  },
  "orig_nbformat": 4,
  "vscode": {
   "interpreter": {
    "hash": "dff9c73f6eff2906381277c2f9420d96a37a076dcd3d44d37cc2493107043b1d"
   }
  }
 },
 "nbformat": 4,
 "nbformat_minor": 2
}
